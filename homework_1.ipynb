{
 "cells": [
  {
   "cell_type": "markdown",
   "metadata": {},
   "source": [
    "<h3> Importing Libraries </h3>"
   ]
  },
  {
   "cell_type": "code",
   "execution_count": 1,
   "metadata": {},
   "outputs": [
    {
     "data": {
      "text/plain": [
       "'1.22.4'"
      ]
     },
     "execution_count": 1,
     "metadata": {},
     "output_type": "execute_result"
    }
   ],
   "source": [
    "import numpy as np\n",
    "import pandas as pd\n",
    "np.__version__"
   ]
  },
  {
   "cell_type": "markdown",
   "metadata": {},
   "source": [
    "<h3> Getting the Data </h3>"
   ]
  },
  {
   "cell_type": "code",
   "execution_count": 2,
   "metadata": {},
   "outputs": [],
   "source": [
    "# !wget https://raw.githubusercontent.com/alexeygrigorev/mlbookcamp-code/master/chapter-02-car-price/data.csv\n"
   ]
  },
  {
   "cell_type": "markdown",
   "metadata": {},
   "source": [
    "<h3> Loading the Data </h3>"
   ]
  },
  {
   "cell_type": "code",
   "execution_count": 3,
   "metadata": {},
   "outputs": [
    {
     "name": "stdout",
     "output_type": "stream",
     "text": [
      "Tokenization took: 18.57 ms\n",
      "Type conversion took: 16.77 ms\n",
      "Parser memory cleanup took: 0.00 ms\n"
     ]
    }
   ],
   "source": [
    "data = \"data.csv\"\n",
    "df = pd.read_csv(data, verbose=True)"
   ]
  },
  {
   "cell_type": "code",
   "execution_count": 4,
   "metadata": {},
   "outputs": [
    {
     "name": "stdout",
     "output_type": "stream",
     "text": [
      "Number of rows is 11914\n",
      "Number of columns is 16\n"
     ]
    },
    {
     "data": {
      "text/plain": [
       "Index(['Make', 'Model', 'Year', 'Engine Fuel Type', 'Engine HP',\n",
       "       'Engine Cylinders', 'Transmission Type', 'Driven_Wheels',\n",
       "       'Number of Doors', 'Market Category', 'Vehicle Size', 'Vehicle Style',\n",
       "       'highway MPG', 'city mpg', 'Popularity', 'MSRP'],\n",
       "      dtype='object')"
      ]
     },
     "execution_count": 4,
     "metadata": {},
     "output_type": "execute_result"
    }
   ],
   "source": [
    "df.head()\n",
    "\n",
    "print(f\"Number of rows is {df.shape[0]}\")\n",
    "print(f\"Number of columns is {df.shape[1]}\")\n",
    "\n",
    "df.columns\n"
   ]
  },
  {
   "cell_type": "markdown",
   "metadata": {},
   "source": [
    "<h3> Data Cleaning </h3>"
   ]
  },
  {
   "cell_type": "code",
   "execution_count": 5,
   "metadata": {},
   "outputs": [
    {
     "data": {
      "text/plain": [
       "Index(['make', 'model', 'year', 'engine_fuel_type', 'engine_hp',\n",
       "       'engine_cylinders', 'transmission_type', 'driven_wheels',\n",
       "       'number_of_doors', 'market_category', 'vehicle_size', 'vehicle_style',\n",
       "       'highway_mpg', 'city_mpg', 'popularity', 'msrp'],\n",
       "      dtype='object')"
      ]
     },
     "execution_count": 5,
     "metadata": {},
     "output_type": "execute_result"
    }
   ],
   "source": [
    "df.columns\n",
    "\n",
    "# Convert the column names to lower case and replace\n",
    "# space with underscore\n",
    "\n",
    "# print(dir(df.columns.str))\n",
    "df.columns = df.columns.str.lower()\n",
    "df.columns = df.columns.str.replace(' ', '_')\n",
    "df.columns"
   ]
  },
  {
   "cell_type": "code",
   "execution_count": 6,
   "metadata": {},
   "outputs": [
    {
     "data": {
      "text/html": [
       "<div>\n",
       "<style scoped>\n",
       "    .dataframe tbody tr th:only-of-type {\n",
       "        vertical-align: middle;\n",
       "    }\n",
       "\n",
       "    .dataframe tbody tr th {\n",
       "        vertical-align: top;\n",
       "    }\n",
       "\n",
       "    .dataframe thead th {\n",
       "        text-align: right;\n",
       "    }\n",
       "</style>\n",
       "<table border=\"1\" class=\"dataframe\">\n",
       "  <thead>\n",
       "    <tr style=\"text-align: right;\">\n",
       "      <th></th>\n",
       "      <th>make</th>\n",
       "      <th>model</th>\n",
       "      <th>year</th>\n",
       "      <th>engine_fuel_type</th>\n",
       "      <th>engine_hp</th>\n",
       "      <th>engine_cylinders</th>\n",
       "      <th>transmission_type</th>\n",
       "      <th>driven_wheels</th>\n",
       "      <th>number_of_doors</th>\n",
       "      <th>market_category</th>\n",
       "      <th>vehicle_size</th>\n",
       "      <th>vehicle_style</th>\n",
       "      <th>highway_mpg</th>\n",
       "      <th>city_mpg</th>\n",
       "      <th>popularity</th>\n",
       "      <th>msrp</th>\n",
       "    </tr>\n",
       "  </thead>\n",
       "  <tbody>\n",
       "    <tr>\n",
       "      <th>0</th>\n",
       "      <td>bmw</td>\n",
       "      <td>1_series_m</td>\n",
       "      <td>2011</td>\n",
       "      <td>premium_unleaded_(required)</td>\n",
       "      <td>335.0</td>\n",
       "      <td>6.0</td>\n",
       "      <td>manual</td>\n",
       "      <td>rear_wheel_drive</td>\n",
       "      <td>2.0</td>\n",
       "      <td>factory_tuner,luxury,high-performance</td>\n",
       "      <td>compact</td>\n",
       "      <td>coupe</td>\n",
       "      <td>26</td>\n",
       "      <td>19</td>\n",
       "      <td>3916</td>\n",
       "      <td>46135</td>\n",
       "    </tr>\n",
       "    <tr>\n",
       "      <th>1</th>\n",
       "      <td>bmw</td>\n",
       "      <td>1_series</td>\n",
       "      <td>2011</td>\n",
       "      <td>premium_unleaded_(required)</td>\n",
       "      <td>300.0</td>\n",
       "      <td>6.0</td>\n",
       "      <td>manual</td>\n",
       "      <td>rear_wheel_drive</td>\n",
       "      <td>2.0</td>\n",
       "      <td>luxury,performance</td>\n",
       "      <td>compact</td>\n",
       "      <td>convertible</td>\n",
       "      <td>28</td>\n",
       "      <td>19</td>\n",
       "      <td>3916</td>\n",
       "      <td>40650</td>\n",
       "    </tr>\n",
       "    <tr>\n",
       "      <th>2</th>\n",
       "      <td>bmw</td>\n",
       "      <td>1_series</td>\n",
       "      <td>2011</td>\n",
       "      <td>premium_unleaded_(required)</td>\n",
       "      <td>300.0</td>\n",
       "      <td>6.0</td>\n",
       "      <td>manual</td>\n",
       "      <td>rear_wheel_drive</td>\n",
       "      <td>2.0</td>\n",
       "      <td>luxury,high-performance</td>\n",
       "      <td>compact</td>\n",
       "      <td>coupe</td>\n",
       "      <td>28</td>\n",
       "      <td>20</td>\n",
       "      <td>3916</td>\n",
       "      <td>36350</td>\n",
       "    </tr>\n",
       "    <tr>\n",
       "      <th>3</th>\n",
       "      <td>bmw</td>\n",
       "      <td>1_series</td>\n",
       "      <td>2011</td>\n",
       "      <td>premium_unleaded_(required)</td>\n",
       "      <td>230.0</td>\n",
       "      <td>6.0</td>\n",
       "      <td>manual</td>\n",
       "      <td>rear_wheel_drive</td>\n",
       "      <td>2.0</td>\n",
       "      <td>luxury,performance</td>\n",
       "      <td>compact</td>\n",
       "      <td>coupe</td>\n",
       "      <td>28</td>\n",
       "      <td>18</td>\n",
       "      <td>3916</td>\n",
       "      <td>29450</td>\n",
       "    </tr>\n",
       "    <tr>\n",
       "      <th>4</th>\n",
       "      <td>bmw</td>\n",
       "      <td>1_series</td>\n",
       "      <td>2011</td>\n",
       "      <td>premium_unleaded_(required)</td>\n",
       "      <td>230.0</td>\n",
       "      <td>6.0</td>\n",
       "      <td>manual</td>\n",
       "      <td>rear_wheel_drive</td>\n",
       "      <td>2.0</td>\n",
       "      <td>luxury</td>\n",
       "      <td>compact</td>\n",
       "      <td>convertible</td>\n",
       "      <td>28</td>\n",
       "      <td>18</td>\n",
       "      <td>3916</td>\n",
       "      <td>34500</td>\n",
       "    </tr>\n",
       "  </tbody>\n",
       "</table>\n",
       "</div>"
      ],
      "text/plain": [
       "  make       model  year             engine_fuel_type  engine_hp  \\\n",
       "0  bmw  1_series_m  2011  premium_unleaded_(required)      335.0   \n",
       "1  bmw    1_series  2011  premium_unleaded_(required)      300.0   \n",
       "2  bmw    1_series  2011  premium_unleaded_(required)      300.0   \n",
       "3  bmw    1_series  2011  premium_unleaded_(required)      230.0   \n",
       "4  bmw    1_series  2011  premium_unleaded_(required)      230.0   \n",
       "\n",
       "   engine_cylinders transmission_type     driven_wheels  number_of_doors  \\\n",
       "0               6.0            manual  rear_wheel_drive              2.0   \n",
       "1               6.0            manual  rear_wheel_drive              2.0   \n",
       "2               6.0            manual  rear_wheel_drive              2.0   \n",
       "3               6.0            manual  rear_wheel_drive              2.0   \n",
       "4               6.0            manual  rear_wheel_drive              2.0   \n",
       "\n",
       "                         market_category vehicle_size vehicle_style  \\\n",
       "0  factory_tuner,luxury,high-performance      compact         coupe   \n",
       "1                     luxury,performance      compact   convertible   \n",
       "2                luxury,high-performance      compact         coupe   \n",
       "3                     luxury,performance      compact         coupe   \n",
       "4                                 luxury      compact   convertible   \n",
       "\n",
       "   highway_mpg  city_mpg  popularity   msrp  \n",
       "0           26        19        3916  46135  \n",
       "1           28        19        3916  40650  \n",
       "2           28        20        3916  36350  \n",
       "3           28        18        3916  29450  \n",
       "4           28        18        3916  34500  "
      ]
     },
     "execution_count": 6,
     "metadata": {},
     "output_type": "execute_result"
    }
   ],
   "source": [
    "# Create a consistent value across all columns\n",
    "\n",
    "type(df.dtypes)\n",
    "\n",
    "strings = df.dtypes[df.dtypes == 'object'].index\n",
    "strings\n",
    "df.columns\n",
    "\n",
    "for col in list(strings):\n",
    "    df[col] = df[col].str.lower()\n",
    "    df[col] = df[col].str.replace(' ', '_')\n",
    "\n",
    "df.head()\n"
   ]
  },
  {
   "cell_type": "code",
   "execution_count": 7,
   "metadata": {},
   "outputs": [
    {
     "data": {
      "text/plain": [
       "chevrolet     1123\n",
       "ford           881\n",
       "volkswagen     809\n",
       "Name: make, dtype: int64"
      ]
     },
     "execution_count": 7,
     "metadata": {},
     "output_type": "execute_result"
    }
   ],
   "source": [
    "df['make'].value_counts().head(3)"
   ]
  },
  {
   "cell_type": "code",
   "execution_count": 8,
   "metadata": {},
   "outputs": [
    {
     "name": "stdout",
     "output_type": "stream",
     "text": [
      "There are 34 unique audi models\n"
     ]
    }
   ],
   "source": [
    "unique_audi_models = df['model'][df['make'] == 'audi'].nunique()\n",
    "print(f\"There are {unique_audi_models} unique audi models\")"
   ]
  },
  {
   "cell_type": "code",
   "execution_count": 9,
   "metadata": {},
   "outputs": [
    {
     "name": "stdout",
     "output_type": "stream",
     "text": [
      "There are 5 columns with missing values\n"
     ]
    }
   ],
   "source": [
    "series = df.isnull().sum()\n",
    "columns_na = 0\n",
    "\n",
    "for x in series:\n",
    "    if x > 0:\n",
    "        columns_na += 1\n",
    "\n",
    "print(f\"There are {columns_na} columns with missing values\")\n",
    "    "
   ]
  },
  {
   "cell_type": "code",
   "execution_count": 10,
   "metadata": {},
   "outputs": [
    {
     "name": "stdout",
     "output_type": "stream",
     "text": [
      "The initial median was 6.0 while the median after filling the missing values was 6.0\n"
     ]
    }
   ],
   "source": [
    "median_before = df['engine_cylinders'].median()\n",
    "mode = df['engine_cylinders'].mode()\n",
    "df[\"engine_cylinders\"].fillna(mode, inplace=True)\n",
    "\n",
    "df['engine_cylinders'].isnull().sum()\n",
    "# mode\n",
    "median_after = df['engine_cylinders'].median()\n",
    "\n",
    "print(f\"The initial median was {median_before} while the median after filling the missing values was {median_after}\")\n"
   ]
  },
  {
   "cell_type": "code",
   "execution_count": 11,
   "metadata": {},
   "outputs": [],
   "source": [
    "df_lotus = df.query(\"make=='lotus'\")\n",
    "\n",
    "x = df_lotus[[\"engine_hp\", \"engine_cylinders\"]].drop_duplicates()\n"
   ]
  },
  {
   "cell_type": "code",
   "execution_count": 12,
   "metadata": {},
   "outputs": [
    {
     "data": {
      "text/plain": [
       "array([  4.59494481, -63.56432501])"
      ]
     },
     "execution_count": 12,
     "metadata": {},
     "output_type": "execute_result"
    }
   ],
   "source": [
    "x = np.array(x)\n",
    "\n",
    "y = np.array([1100, 800, 750, 850, 1300, 1000, 1000, 1300, 800])\n",
    "\n",
    "xtx = x.T @ x\n",
    "\n",
    "xtx_inv = np.linalg.inv(xtx)\n",
    "\n",
    "w = xtx_inv @ x.T\n",
    "\n",
    "w @ y"
   ]
  },
  {
   "cell_type": "markdown",
   "metadata": {},
   "source": [
    "<div>\n",
    "  <h3> Additional stuff not related to the homework </h3>\n",
    "</div>"
   ]
  },
  {
   "cell_type": "code",
   "execution_count": 13,
   "metadata": {},
   "outputs": [],
   "source": [
    "import seaborn as sns\n",
    "from matplotlib import pyplot as plt\n",
    "\n",
    "%matplotlib inline\n",
    "\n",
    "# Setting seaborn as default style\n",
    "sns.set()"
   ]
  },
  {
   "cell_type": "code",
   "execution_count": 14,
   "metadata": {},
   "outputs": [
    {
     "data": {
      "text/plain": [
       "<AxesSubplot:xlabel='msrp', ylabel='Count'>"
      ]
     },
     "execution_count": 14,
     "metadata": {},
     "output_type": "execute_result"
    },
    {
     "data": {
      "image/png": "[encoded data removed]",
      "image/svg+xml": "<?xml version=\"1.0\" encoding=\"utf-8\" standalone=\"no\"?>\n<!DOCTYPE svg PUBLIC \"-//W3C//DTD SVG 1.1//EN\"\n  \"http://www.w3.org/Graphics/SVG/1.1/DTD/svg11.dtd\">\n<svg xmlns:xlink=\"http://www.w3.org/1999/xlink\" width=\"509.7425pt\" height=\"320.734219pt\" viewBox=\"0 0 509.7425 320.734219\" xmlns=\"http://www.w3.org/2000/svg\" version=\"1.1\">\n <metadata>\n  <rdf:RDF xmlns:dc=\"http://purl.org/dc/elements/1.1/\" xmlns:cc=\"http://creativecommons.org/ns#\" xmlns:rdf=\"http://www.w3.org/1999/02/22-rdf-syntax-ns#\">\n   <cc:Work>\n    <dc:type rdf:resource=\"http://purl.org/dc/dcmitype/StillImage\"/>\n    <dc:date>2022-09-27T11:34:47.467867</dc:date>\n    <dc:format>image/svg+xml</dc:format>\n    <dc:creator>\n     <cc:Agent>\n      <dc:title>Matplotlib v3.5.2, https://matplotlib.org/</dc:title>\n     </cc:Agent>\n    </dc:creator>\n   </cc:Work>\n  </rdf:RDF>\n </metadata>\n <defs>\n  <style type=\"text/css\">*{stroke-linejoin: round; stroke-linecap: butt}</style>\n </defs>\n <g id=\"figure_1\">\n  <g id=\"patch_1\">\n   <path d=\"M 0 320.734219 \nL 509.7425 320.734219 \nL 509.7425 0 \nL 0 0 \nz\n\" style=\"fill: #ffffff\"/>\n  </g>\n  <g id=\"axes_1\">\n   <g id=\"patch_2\">\n    <path d=\"M 56.1425 279 \nL 502.5425 279 \nL 502.5425 7.2 \nL 56.1425 7.2 \nz\n\" style=\"fill: #eaeaf2\"/>\n   </g>\n   <g id=\"matplotlib.axis_1\">\n    <g id=\"xtick_1\">\n     <g id=\"line2d_1\">\n      <path d=\"M 99.770146 279 \nL 99.770146 7.2 \n\" clip-path=\"url(#p3b44353f15)\" style=\"fill: none; stroke: #ffffff; stroke-linecap: round\"/>\n     </g>\n     <g id=\"text_1\">\n      <!-- 8 -->\n      <g style=\"fill: #262626\" transform=\"translate(96.71163 296.373594)scale(0.11 -0.11)\">\n       <defs>\n        <path id=\"ArialMT-38\" d=\"M 1131 2484 \nQ 781 2613 612 2850 \nQ 444 3088 444 3419 \nQ 444 3919 803 4259 \nQ 1163 4600 1759 4600 \nQ 2359 4600 2725 4251 \nQ 3091 3903 3091 3403 \nQ 3091 3084 2923 2848 \nQ 2756 2613 2416 2484 \nQ 2838 2347 3058 2040 \nQ 3278 1734 3278 1309 \nQ 3278 722 2862 322 \nQ 2447 -78 1769 -78 \nQ 1091 -78 675 323 \nQ 259 725 259 1325 \nQ 259 1772 486 2073 \nQ 713 2375 1131 2484 \nz\nM 1019 3438 \nQ 1019 3113 1228 2906 \nQ 1438 2700 1772 2700 \nQ 2097 2700 2305 2904 \nQ 2513 3109 2513 3406 \nQ 2513 3716 2298 3927 \nQ 2084 4138 1766 4138 \nQ 1444 4138 1231 3931 \nQ 1019 3725 1019 3438 \nz\nM 838 1322 \nQ 838 1081 952 856 \nQ 1066 631 1291 507 \nQ 1516 384 1775 384 \nQ 2178 384 2440 643 \nQ 2703 903 2703 1303 \nQ 2703 1709 2433 1975 \nQ 2163 2241 1756 2241 \nQ 1359 2241 1098 1978 \nQ 838 1716 838 1322 \nz\n\" transform=\"scale(0.015625)\"/>\n       </defs>\n       <use xlink:href=\"#ArialMT-38\"/>\n      </g>\n     </g>\n    </g>\n    <g id=\"xtick_2\">\n     <g id=\"line2d_2\">\n      <path d=\"M 158.243913 279 \nL 158.243913 7.2 \n\" clip-path=\"url(#p3b44353f15)\" style=\"fill: none; stroke: #ffffff; stroke-linecap: round\"/>\n     </g>\n     <g id=\"text_2\">\n      <!-- 9 -->\n      <g style=\"fill: #262626\" transform=\"translate(155.185398 296.373594)scale(0.11 -0.11)\">\n       <defs>\n        <path id=\"ArialMT-39\" d=\"M 350 1059 \nL 891 1109 \nQ 959 728 1153 556 \nQ 1347 384 1650 384 \nQ 1909 384 2104 503 \nQ 2300 622 2425 820 \nQ 2550 1019 2634 1356 \nQ 2719 1694 2719 2044 \nQ 2719 2081 2716 2156 \nQ 2547 1888 2255 1720 \nQ 1963 1553 1622 1553 \nQ 1053 1553 659 1965 \nQ 266 2378 266 3053 \nQ 266 3750 677 4175 \nQ 1088 4600 1706 4600 \nQ 2153 4600 2523 4359 \nQ 2894 4119 3086 3673 \nQ 3278 3228 3278 2384 \nQ 3278 1506 3087 986 \nQ 2897 466 2520 194 \nQ 2144 -78 1638 -78 \nQ 1100 -78 759 220 \nQ 419 519 350 1059 \nz\nM 2653 3081 \nQ 2653 3566 2395 3850 \nQ 2138 4134 1775 4134 \nQ 1400 4134 1122 3828 \nQ 844 3522 844 3034 \nQ 844 2597 1108 2323 \nQ 1372 2050 1759 2050 \nQ 2150 2050 2401 2323 \nQ 2653 2597 2653 3081 \nz\n\" transform=\"scale(0.015625)\"/>\n       </defs>\n       <use xlink:href=\"#ArialMT-39\"/>\n      </g>\n     </g>\n    </g>\n    <g id=\"xtick_3\">\n     <g id=\"line2d_3\">\n      <path d=\"M 216.717681 279 \nL 216.717681 7.2 \n\" clip-path=\"url(#p3b44353f15)\" style=\"fill: none; stroke: #ffffff; stroke-linecap: round\"/>\n     </g>\n     <g id=\"text_3\">\n      <!-- 10 -->\n      <g style=\"fill: #262626\" transform=\"translate(210.60065 296.373594)scale(0.11 -0.11)\">\n       <defs>\n        <path id=\"ArialMT-31\" d=\"M 2384 0 \nL 1822 0 \nL 1822 3584 \nQ 1619 3391 1289 3197 \nQ 959 3003 697 2906 \nL 697 3450 \nQ 1169 3672 1522 3987 \nQ 1875 4303 2022 4600 \nL 2384 4600 \nL 2384 0 \nz\n\" transform=\"scale(0.015625)\"/>\n        <path id=\"ArialMT-30\" d=\"M 266 2259 \nQ 266 3072 433 3567 \nQ 600 4063 929 4331 \nQ 1259 4600 1759 4600 \nQ 2128 4600 2406 4451 \nQ 2684 4303 2865 4023 \nQ 3047 3744 3150 3342 \nQ 3253 2941 3253 2259 \nQ 3253 1453 3087 958 \nQ 2922 463 2592 192 \nQ 2263 -78 1759 -78 \nQ 1097 -78 719 397 \nQ 266 969 266 2259 \nz\nM 844 2259 \nQ 844 1131 1108 757 \nQ 1372 384 1759 384 \nQ 2147 384 2411 759 \nQ 2675 1134 2675 2259 \nQ 2675 3391 2411 3762 \nQ 2147 4134 1753 4134 \nQ 1366 4134 1134 3806 \nQ 844 3388 844 2259 \nz\n\" transform=\"scale(0.015625)\"/>\n       </defs>\n       <use xlink:href=\"#ArialMT-31\"/>\n       <use xlink:href=\"#ArialMT-30\" x=\"55.615234\"/>\n      </g>\n     </g>\n    </g>\n    <g id=\"xtick_4\">\n     <g id=\"line2d_4\">\n      <path d=\"M 275.191449 279 \nL 275.191449 7.2 \n\" clip-path=\"url(#p3b44353f15)\" style=\"fill: none; stroke: #ffffff; stroke-linecap: round\"/>\n     </g>\n     <g id=\"text_4\">\n      <!-- 11 -->\n      <g style=\"fill: #262626\" transform=\"translate(269.480042 296.373594)scale(0.11 -0.11)\">\n       <use xlink:href=\"#ArialMT-31\"/>\n       <use xlink:href=\"#ArialMT-31\" x=\"48.240234\"/>\n      </g>\n     </g>\n    </g>\n    <g id=\"xtick_5\">\n     <g id=\"line2d_5\">\n      <path d=\"M 333.665216 279 \nL 333.665216 7.2 \n\" clip-path=\"url(#p3b44353f15)\" style=\"fill: none; stroke: #ffffff; stroke-linecap: round\"/>\n     </g>\n     <g id=\"text_5\">\n      <!-- 12 -->\n      <g style=\"fill: #262626\" transform=\"translate(327.548185 296.373594)scale(0.11 -0.11)\">\n       <defs>\n        <path id=\"ArialMT-32\" d=\"M 3222 541 \nL 3222 0 \nL 194 0 \nQ 188 203 259 391 \nQ 375 700 629 1000 \nQ 884 1300 1366 1694 \nQ 2113 2306 2375 2664 \nQ 2638 3022 2638 3341 \nQ 2638 3675 2398 3904 \nQ 2159 4134 1775 4134 \nQ 1369 4134 1125 3890 \nQ 881 3647 878 3216 \nL 300 3275 \nQ 359 3922 746 4261 \nQ 1134 4600 1788 4600 \nQ 2447 4600 2831 4234 \nQ 3216 3869 3216 3328 \nQ 3216 3053 3103 2787 \nQ 2991 2522 2730 2228 \nQ 2469 1934 1863 1422 \nQ 1356 997 1212 845 \nQ 1069 694 975 541 \nL 3222 541 \nz\n\" transform=\"scale(0.015625)\"/>\n       </defs>\n       <use xlink:href=\"#ArialMT-31\"/>\n       <use xlink:href=\"#ArialMT-32\" x=\"55.615234\"/>\n      </g>\n     </g>\n    </g>\n    <g id=\"xtick_6\">\n     <g id=\"line2d_6\">\n      <path d=\"M 392.138984 279 \nL 392.138984 7.2 \n\" clip-path=\"url(#p3b44353f15)\" style=\"fill: none; stroke: #ffffff; stroke-linecap: round\"/>\n     </g>\n     <g id=\"text_6\">\n      <!-- 13 -->\n      <g style=\"fill: #262626\" transform=\"translate(386.021953 296.373594)scale(0.11 -0.11)\">\n       <defs>\n        <path id=\"ArialMT-33\" d=\"M 269 1209 \nL 831 1284 \nQ 928 806 1161 595 \nQ 1394 384 1728 384 \nQ 2125 384 2398 659 \nQ 2672 934 2672 1341 \nQ 2672 1728 2419 1979 \nQ 2166 2231 1775 2231 \nQ 1616 2231 1378 2169 \nL 1441 2663 \nQ 1497 2656 1531 2656 \nQ 1891 2656 2178 2843 \nQ 2466 3031 2466 3422 \nQ 2466 3731 2256 3934 \nQ 2047 4138 1716 4138 \nQ 1388 4138 1169 3931 \nQ 950 3725 888 3313 \nL 325 3413 \nQ 428 3978 793 4289 \nQ 1159 4600 1703 4600 \nQ 2078 4600 2393 4439 \nQ 2709 4278 2876 4000 \nQ 3044 3722 3044 3409 \nQ 3044 3113 2884 2869 \nQ 2725 2625 2413 2481 \nQ 2819 2388 3044 2092 \nQ 3269 1797 3269 1353 \nQ 3269 753 2831 336 \nQ 2394 -81 1725 -81 \nQ 1122 -81 723 278 \nQ 325 638 269 1209 \nz\n\" transform=\"scale(0.015625)\"/>\n       </defs>\n       <use xlink:href=\"#ArialMT-31\"/>\n       <use xlink:href=\"#ArialMT-33\" x=\"55.615234\"/>\n      </g>\n     </g>\n    </g>\n    <g id=\"xtick_7\">\n     <g id=\"line2d_7\">\n      <path d=\"M 450.612751 279 \nL 450.612751 7.2 \n\" clip-path=\"url(#p3b44353f15)\" style=\"fill: none; stroke: #ffffff; stroke-linecap: round\"/>\n     </g>\n     <g id=\"text_7\">\n      <!-- 14 -->\n      <g style=\"fill: #262626\" transform=\"translate(444.49572 296.373594)scale(0.11 -0.11)\">\n       <defs>\n        <path id=\"ArialMT-34\" d=\"M 2069 0 \nL 2069 1097 \nL 81 1097 \nL 81 1613 \nL 2172 4581 \nL 2631 4581 \nL 2631 1613 \nL 3250 1613 \nL 3250 1097 \nL 2631 1097 \nL 2631 0 \nL 2069 0 \nz\nM 2069 1613 \nL 2069 3678 \nL 634 1613 \nL 2069 1613 \nz\n\" transform=\"scale(0.015625)\"/>\n       </defs>\n       <use xlink:href=\"#ArialMT-31\"/>\n       <use xlink:href=\"#ArialMT-34\" x=\"55.615234\"/>\n      </g>\n     </g>\n    </g>\n    <g id=\"text_8\">\n     <!-- msrp -->\n     <g style=\"fill: #262626\" transform=\"translate(266.010312 311.149219)scale(0.12 -0.12)\">\n      <defs>\n       <path id=\"ArialMT-6d\" d=\"M 422 0 \nL 422 3319 \nL 925 3319 \nL 925 2853 \nQ 1081 3097 1340 3245 \nQ 1600 3394 1931 3394 \nQ 2300 3394 2536 3241 \nQ 2772 3088 2869 2813 \nQ 3263 3394 3894 3394 \nQ 4388 3394 4653 3120 \nQ 4919 2847 4919 2278 \nL 4919 0 \nL 4359 0 \nL 4359 2091 \nQ 4359 2428 4304 2576 \nQ 4250 2725 4106 2815 \nQ 3963 2906 3769 2906 \nQ 3419 2906 3187 2673 \nQ 2956 2441 2956 1928 \nL 2956 0 \nL 2394 0 \nL 2394 2156 \nQ 2394 2531 2256 2718 \nQ 2119 2906 1806 2906 \nQ 1569 2906 1367 2781 \nQ 1166 2656 1075 2415 \nQ 984 2175 984 1722 \nL 984 0 \nL 422 0 \nz\n\" transform=\"scale(0.015625)\"/>\n       <path id=\"ArialMT-73\" d=\"M 197 991 \nL 753 1078 \nQ 800 744 1014 566 \nQ 1228 388 1613 388 \nQ 2000 388 2187 545 \nQ 2375 703 2375 916 \nQ 2375 1106 2209 1216 \nQ 2094 1291 1634 1406 \nQ 1016 1563 777 1677 \nQ 538 1791 414 1992 \nQ 291 2194 291 2438 \nQ 291 2659 392 2848 \nQ 494 3038 669 3163 \nQ 800 3259 1026 3326 \nQ 1253 3394 1513 3394 \nQ 1903 3394 2198 3281 \nQ 2494 3169 2634 2976 \nQ 2775 2784 2828 2463 \nL 2278 2388 \nQ 2241 2644 2061 2787 \nQ 1881 2931 1553 2931 \nQ 1166 2931 1000 2803 \nQ 834 2675 834 2503 \nQ 834 2394 903 2306 \nQ 972 2216 1119 2156 \nQ 1203 2125 1616 2013 \nQ 2213 1853 2448 1751 \nQ 2684 1650 2818 1456 \nQ 2953 1263 2953 975 \nQ 2953 694 2789 445 \nQ 2625 197 2315 61 \nQ 2006 -75 1616 -75 \nQ 969 -75 630 194 \nQ 291 463 197 991 \nz\n\" transform=\"scale(0.015625)\"/>\n       <path id=\"ArialMT-72\" d=\"M 416 0 \nL 416 3319 \nL 922 3319 \nL 922 2816 \nQ 1116 3169 1280 3281 \nQ 1444 3394 1641 3394 \nQ 1925 3394 2219 3213 \nL 2025 2691 \nQ 1819 2813 1613 2813 \nQ 1428 2813 1281 2702 \nQ 1134 2591 1072 2394 \nQ 978 2094 978 1738 \nL 978 0 \nL 416 0 \nz\n\" transform=\"scale(0.015625)\"/>\n       <path id=\"ArialMT-70\" d=\"M 422 -1272 \nL 422 3319 \nL 934 3319 \nL 934 2888 \nQ 1116 3141 1344 3267 \nQ 1572 3394 1897 3394 \nQ 2322 3394 2647 3175 \nQ 2972 2956 3137 2557 \nQ 3303 2159 3303 1684 \nQ 3303 1175 3120 767 \nQ 2938 359 2589 142 \nQ 2241 -75 1856 -75 \nQ 1575 -75 1351 44 \nQ 1128 163 984 344 \nL 984 -1272 \nL 422 -1272 \nz\nM 931 1641 \nQ 931 1000 1190 694 \nQ 1450 388 1819 388 \nQ 2194 388 2461 705 \nQ 2728 1022 2728 1688 \nQ 2728 2322 2467 2637 \nQ 2206 2953 1844 2953 \nQ 1484 2953 1207 2617 \nQ 931 2281 931 1641 \nz\n\" transform=\"scale(0.015625)\"/>\n      </defs>\n      <use xlink:href=\"#ArialMT-6d\"/>\n      <use xlink:href=\"#ArialMT-73\" x=\"83.300781\"/>\n      <use xlink:href=\"#ArialMT-72\" x=\"133.300781\"/>\n      <use xlink:href=\"#ArialMT-70\" x=\"166.601562\"/>\n     </g>\n    </g>\n   </g>\n   <g id=\"matplotlib.axis_2\">\n    <g id=\"ytick_1\">\n     <g id=\"line2d_8\">\n      <path d=\"M 56.1425 279 \nL 502.5425 279 \n\" clip-path=\"url(#p3b44353f15)\" style=\"fill: none; stroke: #ffffff; stroke-linecap: round\"/>\n     </g>\n     <g id=\"text_9\">\n      <!-- 0 -->\n      <g style=\"fill: #262626\" transform=\"translate(40.525469 282.936797)scale(0.11 -0.11)\">\n       <use xlink:href=\"#ArialMT-30\"/>\n      </g>\n     </g>\n    </g>\n    <g id=\"ytick_2\">\n     <g id=\"line2d_9\">\n      <path d=\"M 56.1425 241.402739 \nL 502.5425 241.402739 \n\" clip-path=\"url(#p3b44353f15)\" style=\"fill: none; stroke: #ffffff; stroke-linecap: round\"/>\n     </g>\n     <g id=\"text_10\">\n      <!-- 200 -->\n      <g style=\"fill: #262626\" transform=\"translate(28.291406 245.339536)scale(0.11 -0.11)\">\n       <use xlink:href=\"#ArialMT-32\"/>\n       <use xlink:href=\"#ArialMT-30\" x=\"55.615234\"/>\n       <use xlink:href=\"#ArialMT-30\" x=\"111.230469\"/>\n      </g>\n     </g>\n    </g>\n    <g id=\"ytick_3\">\n     <g id=\"line2d_10\">\n      <path d=\"M 56.1425 203.805478 \nL 502.5425 203.805478 \n\" clip-path=\"url(#p3b44353f15)\" style=\"fill: none; stroke: #ffffff; stroke-linecap: round\"/>\n     </g>\n     <g id=\"text_11\">\n      <!-- 400 -->\n      <g style=\"fill: #262626\" transform=\"translate(28.291406 207.742275)scale(0.11 -0.11)\">\n       <use xlink:href=\"#ArialMT-34\"/>\n       <use xlink:href=\"#ArialMT-30\" x=\"55.615234\"/>\n       <use xlink:href=\"#ArialMT-30\" x=\"111.230469\"/>\n      </g>\n     </g>\n    </g>\n    <g id=\"ytick_4\">\n     <g id=\"line2d_11\">\n      <path d=\"M 56.1425 166.208217 \nL 502.5425 166.208217 \n\" clip-path=\"url(#p3b44353f15)\" style=\"fill: none; stroke: #ffffff; stroke-linecap: round\"/>\n     </g>\n     <g id=\"text_12\">\n      <!-- 600 -->\n      <g style=\"fill: #262626\" transform=\"translate(28.291406 170.145013)scale(0.11 -0.11)\">\n       <defs>\n        <path id=\"ArialMT-36\" d=\"M 3184 3459 \nL 2625 3416 \nQ 2550 3747 2413 3897 \nQ 2184 4138 1850 4138 \nQ 1581 4138 1378 3988 \nQ 1113 3794 959 3422 \nQ 806 3050 800 2363 \nQ 1003 2672 1297 2822 \nQ 1591 2972 1913 2972 \nQ 2475 2972 2870 2558 \nQ 3266 2144 3266 1488 \nQ 3266 1056 3080 686 \nQ 2894 316 2569 119 \nQ 2244 -78 1831 -78 \nQ 1128 -78 684 439 \nQ 241 956 241 2144 \nQ 241 3472 731 4075 \nQ 1159 4600 1884 4600 \nQ 2425 4600 2770 4297 \nQ 3116 3994 3184 3459 \nz\nM 888 1484 \nQ 888 1194 1011 928 \nQ 1134 663 1356 523 \nQ 1578 384 1822 384 \nQ 2178 384 2434 671 \nQ 2691 959 2691 1453 \nQ 2691 1928 2437 2201 \nQ 2184 2475 1800 2475 \nQ 1419 2475 1153 2201 \nQ 888 1928 888 1484 \nz\n\" transform=\"scale(0.015625)\"/>\n       </defs>\n       <use xlink:href=\"#ArialMT-36\"/>\n       <use xlink:href=\"#ArialMT-30\" x=\"55.615234\"/>\n       <use xlink:href=\"#ArialMT-30\" x=\"111.230469\"/>\n      </g>\n     </g>\n    </g>\n    <g id=\"ytick_5\">\n     <g id=\"line2d_12\">\n      <path d=\"M 56.1425 128.610955 \nL 502.5425 128.610955 \n\" clip-path=\"url(#p3b44353f15)\" style=\"fill: none; stroke: #ffffff; stroke-linecap: round\"/>\n     </g>\n     <g id=\"text_13\">\n      <!-- 800 -->\n      <g style=\"fill: #262626\" transform=\"translate(28.291406 132.547752)scale(0.11 -0.11)\">\n       <use xlink:href=\"#ArialMT-38\"/>\n       <use xlink:href=\"#ArialMT-30\" x=\"55.615234\"/>\n       <use xlink:href=\"#ArialMT-30\" x=\"111.230469\"/>\n      </g>\n     </g>\n    </g>\n    <g id=\"ytick_6\">\n     <g id=\"line2d_13\">\n      <path d=\"M 56.1425 91.013694 \nL 502.5425 91.013694 \n\" clip-path=\"url(#p3b44353f15)\" style=\"fill: none; stroke: #ffffff; stroke-linecap: round\"/>\n     </g>\n     <g id=\"text_14\">\n      <!-- 1000 -->\n      <g style=\"fill: #262626\" transform=\"translate(22.174375 94.950491)scale(0.11 -0.11)\">\n       <use xlink:href=\"#ArialMT-31\"/>\n       <use xlink:href=\"#ArialMT-30\" x=\"55.615234\"/>\n       <use xlink:href=\"#ArialMT-30\" x=\"111.230469\"/>\n       <use xlink:href=\"#ArialMT-30\" x=\"166.845703\"/>\n      </g>\n     </g>\n    </g>\n    <g id=\"ytick_7\">\n     <g id=\"line2d_14\">\n      <path d=\"M 56.1425 53.416433 \nL 502.5425 53.416433 \n\" clip-path=\"url(#p3b44353f15)\" style=\"fill: none; stroke: #ffffff; stroke-linecap: round\"/>\n     </g>\n     <g id=\"text_15\">\n      <!-- 1200 -->\n      <g style=\"fill: #262626\" transform=\"translate(22.174375 57.35323)scale(0.11 -0.11)\">\n       <use xlink:href=\"#ArialMT-31\"/>\n       <use xlink:href=\"#ArialMT-32\" x=\"55.615234\"/>\n       <use xlink:href=\"#ArialMT-30\" x=\"111.230469\"/>\n       <use xlink:href=\"#ArialMT-30\" x=\"166.845703\"/>\n      </g>\n     </g>\n    </g>\n    <g id=\"ytick_8\">\n     <g id=\"line2d_15\">\n      <path d=\"M 56.1425 15.819172 \nL 502.5425 15.819172 \n\" clip-path=\"url(#p3b44353f15)\" style=\"fill: none; stroke: #ffffff; stroke-linecap: round\"/>\n     </g>\n     <g id=\"text_16\">\n      <!-- 1400 -->\n      <g style=\"fill: #262626\" transform=\"translate(22.174375 19.755969)scale(0.11 -0.11)\">\n       <use xlink:href=\"#ArialMT-31\"/>\n       <use xlink:href=\"#ArialMT-34\" x=\"55.615234\"/>\n       <use xlink:href=\"#ArialMT-30\" x=\"111.230469\"/>\n       <use xlink:href=\"#ArialMT-30\" x=\"166.845703\"/>\n      </g>\n     </g>\n    </g>\n    <g id=\"text_17\">\n     <!-- Count -->\n     <g style=\"fill: #262626\" transform=\"translate(15.789375 159.109687)rotate(-90)scale(0.12 -0.12)\">\n      <defs>\n       <path id=\"ArialMT-43\" d=\"M 3763 1606 \nL 4369 1453 \nQ 4178 706 3683 314 \nQ 3188 -78 2472 -78 \nQ 1731 -78 1267 223 \nQ 803 525 561 1097 \nQ 319 1669 319 2325 \nQ 319 3041 592 3573 \nQ 866 4106 1370 4382 \nQ 1875 4659 2481 4659 \nQ 3169 4659 3637 4309 \nQ 4106 3959 4291 3325 \nL 3694 3184 \nQ 3534 3684 3231 3912 \nQ 2928 4141 2469 4141 \nQ 1941 4141 1586 3887 \nQ 1231 3634 1087 3207 \nQ 944 2781 944 2328 \nQ 944 1744 1114 1308 \nQ 1284 872 1643 656 \nQ 2003 441 2422 441 \nQ 2931 441 3284 734 \nQ 3638 1028 3763 1606 \nz\n\" transform=\"scale(0.015625)\"/>\n       <path id=\"ArialMT-6f\" d=\"M 213 1659 \nQ 213 2581 725 3025 \nQ 1153 3394 1769 3394 \nQ 2453 3394 2887 2945 \nQ 3322 2497 3322 1706 \nQ 3322 1066 3130 698 \nQ 2938 331 2570 128 \nQ 2203 -75 1769 -75 \nQ 1072 -75 642 372 \nQ 213 819 213 1659 \nz\nM 791 1659 \nQ 791 1022 1069 705 \nQ 1347 388 1769 388 \nQ 2188 388 2466 706 \nQ 2744 1025 2744 1678 \nQ 2744 2294 2464 2611 \nQ 2184 2928 1769 2928 \nQ 1347 2928 1069 2612 \nQ 791 2297 791 1659 \nz\n\" transform=\"scale(0.015625)\"/>\n       <path id=\"ArialMT-75\" d=\"M 2597 0 \nL 2597 488 \nQ 2209 -75 1544 -75 \nQ 1250 -75 995 37 \nQ 741 150 617 320 \nQ 494 491 444 738 \nQ 409 903 409 1263 \nL 409 3319 \nL 972 3319 \nL 972 1478 \nQ 972 1038 1006 884 \nQ 1059 663 1231 536 \nQ 1403 409 1656 409 \nQ 1909 409 2131 539 \nQ 2353 669 2445 892 \nQ 2538 1116 2538 1541 \nL 2538 3319 \nL 3100 3319 \nL 3100 0 \nL 2597 0 \nz\n\" transform=\"scale(0.015625)\"/>\n       <path id=\"ArialMT-6e\" d=\"M 422 0 \nL 422 3319 \nL 928 3319 \nL 928 2847 \nQ 1294 3394 1984 3394 \nQ 2284 3394 2536 3286 \nQ 2788 3178 2913 3003 \nQ 3038 2828 3088 2588 \nQ 3119 2431 3119 2041 \nL 3119 0 \nL 2556 0 \nL 2556 2019 \nQ 2556 2363 2490 2533 \nQ 2425 2703 2258 2804 \nQ 2091 2906 1866 2906 \nQ 1506 2906 1245 2678 \nQ 984 2450 984 1813 \nL 984 0 \nL 422 0 \nz\n\" transform=\"scale(0.015625)\"/>\n       <path id=\"ArialMT-74\" d=\"M 1650 503 \nL 1731 6 \nQ 1494 -44 1306 -44 \nQ 1000 -44 831 53 \nQ 663 150 594 308 \nQ 525 466 525 972 \nL 525 2881 \nL 113 2881 \nL 113 3319 \nL 525 3319 \nL 525 4141 \nL 1084 4478 \nL 1084 3319 \nL 1650 3319 \nL 1650 2881 \nL 1084 2881 \nL 1084 941 \nQ 1084 700 1114 631 \nQ 1144 563 1211 522 \nQ 1278 481 1403 481 \nQ 1497 481 1650 503 \nz\n\" transform=\"scale(0.015625)\"/>\n      </defs>\n      <use xlink:href=\"#ArialMT-43\"/>\n      <use xlink:href=\"#ArialMT-6f\" x=\"72.216797\"/>\n      <use xlink:href=\"#ArialMT-75\" x=\"127.832031\"/>\n      <use xlink:href=\"#ArialMT-6e\" x=\"183.447266\"/>\n      <use xlink:href=\"#ArialMT-74\" x=\"239.0625\"/>\n     </g>\n    </g>\n   </g>\n   <g id=\"patch_3\">\n    <path d=\"M 76.433409 279 \nL 84.549773 279 \nL 84.549773 51.348584 \nL 76.433409 51.348584 \nz\n\" clip-path=\"url(#p3b44353f15)\" style=\"fill: #4c72b0; fill-opacity: 0.5; stroke: #ffffff; stroke-width: 0.811636; stroke-linejoin: miter\"/>\n   </g>\n   <g id=\"patch_4\">\n    <path d=\"M 84.549773 279 \nL 92.666136 279 \nL 92.666136 255.877684 \nL 84.549773 255.877684 \nz\n\" clip-path=\"url(#p3b44353f15)\" style=\"fill: #4c72b0; fill-opacity: 0.5; stroke: #ffffff; stroke-width: 0.811636; stroke-linejoin: miter\"/>\n   </g>\n   <g id=\"patch_5\">\n    <path d=\"M 92.666136 279 \nL 100.7825 279 \nL 100.7825 260.389356 \nL 92.666136 260.389356 \nz\n\" clip-path=\"url(#p3b44353f15)\" style=\"fill: #4c72b0; fill-opacity: 0.5; stroke: #ffffff; stroke-width: 0.811636; stroke-linejoin: miter\"/>\n   </g>\n   <g id=\"patch_6\">\n    <path d=\"M 100.7825 279 \nL 108.898864 279 \nL 108.898864 261.70526 \nL 100.7825 261.70526 \nz\n\" clip-path=\"url(#p3b44353f15)\" style=\"fill: #4c72b0; fill-opacity: 0.5; stroke: #ffffff; stroke-width: 0.811636; stroke-linejoin: miter\"/>\n   </g>\n   <g id=\"patch_7\">\n    <path d=\"M 108.898864 279 \nL 117.015227 279 \nL 117.015227 269.976657 \nL 108.898864 269.976657 \nz\n\" clip-path=\"url(#p3b44353f15)\" style=\"fill: #4c72b0; fill-opacity: 0.5; stroke: #ffffff; stroke-width: 0.811636; stroke-linejoin: miter\"/>\n   </g>\n   <g id=\"patch_8\">\n    <path d=\"M 117.015227 279 \nL 125.131591 279 \nL 125.131591 274.676315 \nL 117.015227 274.676315 \nz\n\" clip-path=\"url(#p3b44353f15)\" style=\"fill: #4c72b0; fill-opacity: 0.5; stroke: #ffffff; stroke-width: 0.811636; stroke-linejoin: miter\"/>\n   </g>\n   <g id=\"patch_9\">\n    <path d=\"M 125.131591 279 \nL 133.247955 279 \nL 133.247955 275.616246 \nL 125.131591 275.616246 \nz\n\" clip-path=\"url(#p3b44353f15)\" style=\"fill: #4c72b0; fill-opacity: 0.5; stroke: #ffffff; stroke-width: 0.811636; stroke-linejoin: miter\"/>\n   </g>\n   <g id=\"patch_10\">\n    <path d=\"M 133.247955 279 \nL 141.364318 279 \nL 141.364318 276.556178 \nL 133.247955 276.556178 \nz\n\" clip-path=\"url(#p3b44353f15)\" style=\"fill: #4c72b0; fill-opacity: 0.5; stroke: #ffffff; stroke-width: 0.811636; stroke-linejoin: miter\"/>\n   </g>\n   <g id=\"patch_11\">\n    <path d=\"M 141.364318 279 \nL 149.480682 279 \nL 149.480682 277.684096 \nL 141.364318 277.684096 \nz\n\" clip-path=\"url(#p3b44353f15)\" style=\"fill: #4c72b0; fill-opacity: 0.5; stroke: #ffffff; stroke-width: 0.811636; stroke-linejoin: miter\"/>\n   </g>\n   <g id=\"patch_12\">\n    <path d=\"M 149.480682 279 \nL 157.597045 279 \nL 157.597045 278.060068 \nL 149.480682 278.060068 \nz\n\" clip-path=\"url(#p3b44353f15)\" style=\"fill: #4c72b0; fill-opacity: 0.5; stroke: #ffffff; stroke-width: 0.811636; stroke-linejoin: miter\"/>\n   </g>\n   <g id=\"patch_13\">\n    <path d=\"M 157.597045 279 \nL 165.713409 279 \nL 165.713409 278.248055 \nL 157.597045 278.248055 \nz\n\" clip-path=\"url(#p3b44353f15)\" style=\"fill: #4c72b0; fill-opacity: 0.5; stroke: #ffffff; stroke-width: 0.811636; stroke-linejoin: miter\"/>\n   </g>\n   <g id=\"patch_14\">\n    <path d=\"M 165.713409 279 \nL 173.829773 279 \nL 173.829773 277.120137 \nL 165.713409 277.120137 \nz\n\" clip-path=\"url(#p3b44353f15)\" style=\"fill: #4c72b0; fill-opacity: 0.5; stroke: #ffffff; stroke-width: 0.811636; stroke-linejoin: miter\"/>\n   </g>\n   <g id=\"patch_15\">\n    <path d=\"M 173.829773 279 \nL 181.946136 279 \nL 181.946136 274.676315 \nL 173.829773 274.676315 \nz\n\" clip-path=\"url(#p3b44353f15)\" style=\"fill: #4c72b0; fill-opacity: 0.5; stroke: #ffffff; stroke-width: 0.811636; stroke-linejoin: miter\"/>\n   </g>\n   <g id=\"patch_16\">\n    <path d=\"M 181.946136 279 \nL 190.0625 279 \nL 190.0625 269.036726 \nL 181.946136 269.036726 \nz\n\" clip-path=\"url(#p3b44353f15)\" style=\"fill: #4c72b0; fill-opacity: 0.5; stroke: #ffffff; stroke-width: 0.811636; stroke-linejoin: miter\"/>\n   </g>\n   <g id=\"patch_17\">\n    <path d=\"M 190.0625 279 \nL 198.178864 279 \nL 198.178864 229.559602 \nL 190.0625 229.559602 \nz\n\" clip-path=\"url(#p3b44353f15)\" style=\"fill: #4c72b0; fill-opacity: 0.5; stroke: #ffffff; stroke-width: 0.811636; stroke-linejoin: miter\"/>\n   </g>\n   <g id=\"patch_18\">\n    <path d=\"M 198.178864 279 \nL 206.295227 279 \nL 206.295227 206.625272 \nL 198.178864 206.625272 \nz\n\" clip-path=\"url(#p3b44353f15)\" style=\"fill: #4c72b0; fill-opacity: 0.5; stroke: #ffffff; stroke-width: 0.811636; stroke-linejoin: miter\"/>\n   </g>\n   <g id=\"patch_19\">\n    <path d=\"M 206.295227 279 \nL 214.411591 279 \nL 214.411591 158.876751 \nL 206.295227 158.876751 \nz\n\" clip-path=\"url(#p3b44353f15)\" style=\"fill: #4c72b0; fill-opacity: 0.5; stroke: #ffffff; stroke-width: 0.811636; stroke-linejoin: miter\"/>\n   </g>\n   <g id=\"patch_20\">\n    <path d=\"M 214.411591 279 \nL 222.527955 279 \nL 222.527955 91.013694 \nL 214.411591 91.013694 \nz\n\" clip-path=\"url(#p3b44353f15)\" style=\"fill: #4c72b0; fill-opacity: 0.5; stroke: #ffffff; stroke-width: 0.811636; stroke-linejoin: miter\"/>\n   </g>\n   <g id=\"patch_21\">\n    <path d=\"M 222.527955 279 \nL 230.644318 279 \nL 230.644318 42.701214 \nL 222.527955 42.701214 \nz\n\" clip-path=\"url(#p3b44353f15)\" style=\"fill: #4c72b0; fill-opacity: 0.5; stroke: #ffffff; stroke-width: 0.811636; stroke-linejoin: miter\"/>\n   </g>\n   <g id=\"patch_22\">\n    <path d=\"M 230.644318 279 \nL 238.760682 279 \nL 238.760682 20.142857 \nL 230.644318 20.142857 \nz\n\" clip-path=\"url(#p3b44353f15)\" style=\"fill: #4c72b0; fill-opacity: 0.5; stroke: #ffffff; stroke-width: 0.811636; stroke-linejoin: miter\"/>\n   </g>\n   <g id=\"patch_23\">\n    <path d=\"M 238.760682 279 \nL 246.877045 279 \nL 246.877045 47.776844 \nL 238.760682 47.776844 \nz\n\" clip-path=\"url(#p3b44353f15)\" style=\"fill: #4c72b0; fill-opacity: 0.5; stroke: #ffffff; stroke-width: 0.811636; stroke-linejoin: miter\"/>\n   </g>\n   <g id=\"patch_24\">\n    <path d=\"M 246.877045 279 \nL 254.993409 279 \nL 254.993409 76.538749 \nL 246.877045 76.538749 \nz\n\" clip-path=\"url(#p3b44353f15)\" style=\"fill: #4c72b0; fill-opacity: 0.5; stroke: #ffffff; stroke-width: 0.811636; stroke-linejoin: miter\"/>\n   </g>\n   <g id=\"patch_25\">\n    <path d=\"M 254.993409 279 \nL 263.109773 279 \nL 263.109773 125.039216 \nL 254.993409 125.039216 \nz\n\" clip-path=\"url(#p3b44353f15)\" style=\"fill: #4c72b0; fill-opacity: 0.5; stroke: #ffffff; stroke-width: 0.811636; stroke-linejoin: miter\"/>\n   </g>\n   <g id=\"patch_26\">\n    <path d=\"M 263.109773 279 \nL 271.226136 279 \nL 271.226136 173.351696 \nL 263.109773 173.351696 \nz\n\" clip-path=\"url(#p3b44353f15)\" style=\"fill: #4c72b0; fill-opacity: 0.5; stroke: #ffffff; stroke-width: 0.811636; stroke-linejoin: miter\"/>\n   </g>\n   <g id=\"patch_27\">\n    <path d=\"M 271.226136 279 \nL 279.3425 279 \nL 279.3425 213.392779 \nL 271.226136 213.392779 \nz\n\" clip-path=\"url(#p3b44353f15)\" style=\"fill: #4c72b0; fill-opacity: 0.5; stroke: #ffffff; stroke-width: 0.811636; stroke-linejoin: miter\"/>\n   </g>\n   <g id=\"patch_28\">\n    <path d=\"M 279.3425 279 \nL 287.458864 279 \nL 287.458864 236.139122 \nL 279.3425 236.139122 \nz\n\" clip-path=\"url(#p3b44353f15)\" style=\"fill: #4c72b0; fill-opacity: 0.5; stroke: #ffffff; stroke-width: 0.811636; stroke-linejoin: miter\"/>\n   </g>\n   <g id=\"patch_29\">\n    <path d=\"M 287.458864 279 \nL 295.575227 279 \nL 295.575227 243.846561 \nL 287.458864 243.846561 \nz\n\" clip-path=\"url(#p3b44353f15)\" style=\"fill: #4c72b0; fill-opacity: 0.5; stroke: #ffffff; stroke-width: 0.811636; stroke-linejoin: miter\"/>\n   </g>\n   <g id=\"patch_30\">\n    <path d=\"M 295.575227 279 \nL 303.691591 279 \nL 303.691591 250.802054 \nL 295.575227 250.802054 \nz\n\" clip-path=\"url(#p3b44353f15)\" style=\"fill: #4c72b0; fill-opacity: 0.5; stroke: #ffffff; stroke-width: 0.811636; stroke-linejoin: miter\"/>\n   </g>\n   <g id=\"patch_31\">\n    <path d=\"M 303.691591 279 \nL 311.807955 279 \nL 311.807955 260.953315 \nL 303.691591 260.953315 \nz\n\" clip-path=\"url(#p3b44353f15)\" style=\"fill: #4c72b0; fill-opacity: 0.5; stroke: #ffffff; stroke-width: 0.811636; stroke-linejoin: miter\"/>\n   </g>\n   <g id=\"patch_32\">\n    <path d=\"M 311.807955 279 \nL 319.924318 279 \nL 319.924318 264.337068 \nL 311.807955 264.337068 \nz\n\" clip-path=\"url(#p3b44353f15)\" style=\"fill: #4c72b0; fill-opacity: 0.5; stroke: #ffffff; stroke-width: 0.811636; stroke-linejoin: miter\"/>\n   </g>\n   <g id=\"patch_33\">\n    <path d=\"M 319.924318 279 \nL 328.040682 279 \nL 328.040682 265.652972 \nL 319.924318 265.652972 \nz\n\" clip-path=\"url(#p3b44353f15)\" style=\"fill: #4c72b0; fill-opacity: 0.5; stroke: #ffffff; stroke-width: 0.811636; stroke-linejoin: miter\"/>\n   </g>\n   <g id=\"patch_34\">\n    <path d=\"M 328.040682 279 \nL 336.157045 279 \nL 336.157045 268.848739 \nL 328.040682 268.848739 \nz\n\" clip-path=\"url(#p3b44353f15)\" style=\"fill: #4c72b0; fill-opacity: 0.5; stroke: #ffffff; stroke-width: 0.811636; stroke-linejoin: miter\"/>\n   </g>\n   <g id=\"patch_35\">\n    <path d=\"M 336.157045 279 \nL 344.273409 279 \nL 344.273409 267.908808 \nL 336.157045 267.908808 \nz\n\" clip-path=\"url(#p3b44353f15)\" style=\"fill: #4c72b0; fill-opacity: 0.5; stroke: #ffffff; stroke-width: 0.811636; stroke-linejoin: miter\"/>\n   </g>\n   <g id=\"patch_36\">\n    <path d=\"M 344.273409 279 \nL 352.389773 279 \nL 352.389773 261.517274 \nL 344.273409 261.517274 \nz\n\" clip-path=\"url(#p3b44353f15)\" style=\"fill: #4c72b0; fill-opacity: 0.5; stroke: #ffffff; stroke-width: 0.811636; stroke-linejoin: miter\"/>\n   </g>\n   <g id=\"patch_37\">\n    <path d=\"M 352.389773 279 \nL 360.506136 279 \nL 360.506136 267.908808 \nL 352.389773 267.908808 \nz\n\" clip-path=\"url(#p3b44353f15)\" style=\"fill: #4c72b0; fill-opacity: 0.5; stroke: #ffffff; stroke-width: 0.811636; stroke-linejoin: miter\"/>\n   </g>\n   <g id=\"patch_38\">\n    <path d=\"M 360.506136 279 \nL 368.6225 279 \nL 368.6225 269.412698 \nL 360.506136 269.412698 \nz\n\" clip-path=\"url(#p3b44353f15)\" style=\"fill: #4c72b0; fill-opacity: 0.5; stroke: #ffffff; stroke-width: 0.811636; stroke-linejoin: miter\"/>\n   </g>\n   <g id=\"patch_39\">\n    <path d=\"M 368.6225 279 \nL 376.738864 279 \nL 376.738864 272.044507 \nL 368.6225 272.044507 \nz\n\" clip-path=\"url(#p3b44353f15)\" style=\"fill: #4c72b0; fill-opacity: 0.5; stroke: #ffffff; stroke-width: 0.811636; stroke-linejoin: miter\"/>\n   </g>\n   <g id=\"patch_40\">\n    <path d=\"M 376.738864 279 \nL 384.855227 279 \nL 384.855227 276.368192 \nL 376.738864 276.368192 \nz\n\" clip-path=\"url(#p3b44353f15)\" style=\"fill: #4c72b0; fill-opacity: 0.5; stroke: #ffffff; stroke-width: 0.811636; stroke-linejoin: miter\"/>\n   </g>\n   <g id=\"patch_41\">\n    <path d=\"M 384.855227 279 \nL 392.971591 279 \nL 392.971591 275.052288 \nL 384.855227 275.052288 \nz\n\" clip-path=\"url(#p3b44353f15)\" style=\"fill: #4c72b0; fill-opacity: 0.5; stroke: #ffffff; stroke-width: 0.811636; stroke-linejoin: miter\"/>\n   </g>\n   <g id=\"patch_42\">\n    <path d=\"M 392.971591 279 \nL 401.087955 279 \nL 401.087955 275.42826 \nL 392.971591 275.42826 \nz\n\" clip-path=\"url(#p3b44353f15)\" style=\"fill: #4c72b0; fill-opacity: 0.5; stroke: #ffffff; stroke-width: 0.811636; stroke-linejoin: miter\"/>\n   </g>\n   <g id=\"patch_43\">\n    <path d=\"M 401.087955 279 \nL 409.204318 279 \nL 409.204318 278.436041 \nL 401.087955 278.436041 \nz\n\" clip-path=\"url(#p3b44353f15)\" style=\"fill: #4c72b0; fill-opacity: 0.5; stroke: #ffffff; stroke-width: 0.811636; stroke-linejoin: miter\"/>\n   </g>\n   <g id=\"patch_44\">\n    <path d=\"M 409.204318 279 \nL 417.320682 279 \nL 417.320682 278.812014 \nL 409.204318 278.812014 \nz\n\" clip-path=\"url(#p3b44353f15)\" style=\"fill: #4c72b0; fill-opacity: 0.5; stroke: #ffffff; stroke-width: 0.811636; stroke-linejoin: miter\"/>\n   </g>\n   <g id=\"patch_45\">\n    <path d=\"M 417.320682 279 \nL 425.437045 279 \nL 425.437045 279 \nL 417.320682 279 \nz\n\" clip-path=\"url(#p3b44353f15)\" style=\"fill: #4c72b0; fill-opacity: 0.5; stroke: #ffffff; stroke-width: 0.811636; stroke-linejoin: miter\"/>\n   </g>\n   <g id=\"patch_46\">\n    <path d=\"M 425.437045 279 \nL 433.553409 279 \nL 433.553409 279 \nL 425.437045 279 \nz\n\" clip-path=\"url(#p3b44353f15)\" style=\"fill: #4c72b0; fill-opacity: 0.5; stroke: #ffffff; stroke-width: 0.811636; stroke-linejoin: miter\"/>\n   </g>\n   <g id=\"patch_47\">\n    <path d=\"M 433.553409 279 \nL 441.669773 279 \nL 441.669773 279 \nL 433.553409 279 \nz\n\" clip-path=\"url(#p3b44353f15)\" style=\"fill: #4c72b0; fill-opacity: 0.5; stroke: #ffffff; stroke-width: 0.811636; stroke-linejoin: miter\"/>\n   </g>\n   <g id=\"patch_48\">\n    <path d=\"M 441.669773 279 \nL 449.786136 279 \nL 449.786136 279 \nL 441.669773 279 \nz\n\" clip-path=\"url(#p3b44353f15)\" style=\"fill: #4c72b0; fill-opacity: 0.5; stroke: #ffffff; stroke-width: 0.811636; stroke-linejoin: miter\"/>\n   </g>\n   <g id=\"patch_49\">\n    <path d=\"M 449.786136 279 \nL 457.9025 279 \nL 457.9025 279 \nL 449.786136 279 \nz\n\" clip-path=\"url(#p3b44353f15)\" style=\"fill: #4c72b0; fill-opacity: 0.5; stroke: #ffffff; stroke-width: 0.811636; stroke-linejoin: miter\"/>\n   </g>\n   <g id=\"patch_50\">\n    <path d=\"M 457.9025 279 \nL 466.018864 279 \nL 466.018864 278.248055 \nL 457.9025 278.248055 \nz\n\" clip-path=\"url(#p3b44353f15)\" style=\"fill: #4c72b0; fill-opacity: 0.5; stroke: #ffffff; stroke-width: 0.811636; stroke-linejoin: miter\"/>\n   </g>\n   <g id=\"patch_51\">\n    <path d=\"M 466.018864 279 \nL 474.135227 279 \nL 474.135227 278.812014 \nL 466.018864 278.812014 \nz\n\" clip-path=\"url(#p3b44353f15)\" style=\"fill: #4c72b0; fill-opacity: 0.5; stroke: #ffffff; stroke-width: 0.811636; stroke-linejoin: miter\"/>\n   </g>\n   <g id=\"patch_52\">\n    <path d=\"M 474.135227 279 \nL 482.251591 279 \nL 482.251591 278.812014 \nL 474.135227 278.812014 \nz\n\" clip-path=\"url(#p3b44353f15)\" style=\"fill: #4c72b0; fill-opacity: 0.5; stroke: #ffffff; stroke-width: 0.811636; stroke-linejoin: miter\"/>\n   </g>\n   <g id=\"line2d_16\">\n    <path d=\"M 76.433409 200.899067 \nL 78.472696 200.272843 \nL 80.511984 202.408701 \nL 82.551271 206.927823 \nL 84.590558 213.210525 \nL 90.708421 235.419602 \nL 92.747708 241.97967 \nL 94.786995 247.580841 \nL 96.826283 252.177599 \nL 98.86557 255.854546 \nL 100.904857 258.770396 \nL 102.944145 261.107605 \nL 104.983432 263.0356 \nL 107.022719 264.689846 \nL 111.101294 267.516922 \nL 115.179869 269.939302 \nL 119.258443 271.988628 \nL 123.337018 273.627892 \nL 127.415593 274.866591 \nL 131.494167 275.767057 \nL 135.572742 276.413037 \nL 141.690604 277.069891 \nL 147.808466 277.487427 \nL 153.926328 277.678959 \nL 158.004903 277.621378 \nL 162.083478 277.320946 \nL 164.122765 277.035547 \nL 166.162052 276.624459 \nL 168.20134 276.050625 \nL 170.240627 275.266938 \nL 172.279914 274.215687 \nL 174.319202 272.829479 \nL 176.358489 271.034128 \nL 178.397776 268.753635 \nL 180.437064 265.916786 \nL 182.476351 262.464229 \nL 184.515638 258.354421 \nL 186.554926 253.566716 \nL 188.594213 248.100351 \nL 190.6335 241.969107 \nL 192.672788 235.192729 \nL 194.712075 227.787432 \nL 196.751362 219.75847 \nL 198.79065 211.097552 \nL 200.829937 201.786782 \nL 202.869225 191.809049 \nL 204.908512 181.162962 \nL 208.987087 158.033445 \nL 219.183523 96.604216 \nL 221.222811 85.614019 \nL 223.262098 75.662601 \nL 225.301385 66.961927 \nL 227.340673 59.679476 \nL 229.37996 53.935184 \nL 231.419247 49.802734 \nL 233.458535 47.313718 \nL 235.497822 46.463057 \nL 237.537109 47.214384 \nL 239.576397 49.504759 \nL 241.615684 53.248624 \nL 243.654971 58.341329 \nL 245.694259 64.662542 \nL 247.733546 72.07964 \nL 249.772833 80.45085 \nL 251.812121 89.627743 \nL 255.890696 109.780058 \nL 266.087132 163.100639 \nL 270.165707 182.369527 \nL 272.204994 191.100357 \nL 274.244282 199.156768 \nL 276.283569 206.520656 \nL 278.322856 213.196297 \nL 280.362144 219.203618 \nL 282.401431 224.572531 \nL 284.440718 229.339706 \nL 286.480006 233.547922 \nL 288.519293 237.246932 \nL 290.55858 240.494126 \nL 292.597868 243.353433 \nL 294.637155 245.891822 \nL 296.676442 248.173876 \nL 300.755017 252.180962 \nL 304.833592 255.657824 \nL 308.912167 258.675106 \nL 312.990741 261.19945 \nL 317.069316 263.213145 \nL 321.147891 264.748595 \nL 325.226465 265.845586 \nL 329.30504 266.50642 \nL 333.383615 266.717449 \nL 337.462189 266.53881 \nL 343.580051 266.031652 \nL 347.658626 265.992033 \nL 349.697913 266.148813 \nL 351.737201 266.431439 \nL 355.815775 267.317742 \nL 361.933638 269.086318 \nL 372.130074 272.127562 \nL 378.247936 273.707929 \nL 382.326511 274.525878 \nL 386.405086 275.14051 \nL 412.915821 278.408895 \nL 419.033683 278.767611 \nL 427.190833 278.947653 \nL 441.465844 278.960584 \nL 474.094442 278.791147 \nL 482.251591 278.878237 \nL 482.251591 278.878237 \n\" clip-path=\"url(#p3b44353f15)\" style=\"fill: none; stroke: #4c72b0; stroke-width: 1.5; stroke-linecap: round\"/>\n   </g>\n   <g id=\"patch_53\">\n    <path d=\"M 56.1425 279 \nL 56.1425 7.2 \n\" style=\"fill: none; stroke: #ffffff; stroke-width: 1.25; stroke-linejoin: miter; stroke-linecap: square\"/>\n   </g>\n   <g id=\"patch_54\">\n    <path d=\"M 502.5425 279 \nL 502.5425 7.2 \n\" style=\"fill: none; stroke: #ffffff; stroke-width: 1.25; stroke-linejoin: miter; stroke-linecap: square\"/>\n   </g>\n   <g id=\"patch_55\">\n    <path d=\"M 56.1425 279 \nL 502.5425 279 \n\" style=\"fill: none; stroke: #ffffff; stroke-width: 1.25; stroke-linejoin: miter; stroke-linecap: square\"/>\n   </g>\n   <g id=\"patch_56\">\n    <path d=\"M 56.1425 7.2 \nL 502.5425 7.2 \n\" style=\"fill: none; stroke: #ffffff; stroke-width: 1.25; stroke-linejoin: miter; stroke-linecap: square\"/>\n   </g>\n  </g>\n </g>\n <defs>\n  <clipPath id=\"p3b44353f15\">\n   <rect x=\"56.1425\" y=\"7.2\" width=\"446.4\" height=\"271.8\"/>\n  </clipPath>\n </defs>\n</svg>\n",
      "text/plain": [
       "<Figure size 576x360 with 1 Axes>"
      ]
     },
     "metadata": {},
     "output_type": "display_data"
    }
   ],
   "source": [
    "# Get the distribution of the price column using histogram\n",
    "df['msrp'] = np.log(df['msrp'])\n",
    "\n",
    "fig, ax = plt.subplots(figsize=((8, 5)))\n",
    "sns.histplot(df['msrp'][df['msrp'] < 100000], \n",
    "             kde=True,\n",
    "             bins=50)\n",
    "# plt.show()\n"
   ]
  },
  {
   "cell_type": "code",
   "execution_count": 17,
   "metadata": {},
   "outputs": [],
   "source": [
    "plt.subplots(figsize=((7, 5)))\n",
    "sns.boxplot(x=df['msrp'], y=df['engine_cylinders'],\n",
    "            orient='v')"
   ]
  }
 ],
 "metadata": {
  "kernelspec": {
   "display_name": "Python 3.10.5 64-bit",
   "language": "python",
   "name": "python3"
  },
  "language_info": {
   "codemirror_mode": {
    "name": "ipython",
    "version": 3
   },
   "file_extension": ".py",
   "mimetype": "text/x-python",
   "name": "python",
   "nbconvert_exporter": "python",
   "pygments_lexer": "ipython3",
   "version": "3.10.5"
  },
  "orig_nbformat": 4,
  "vscode": {
   "interpreter": {
    "hash": "8eede22598bfb2ec59ca93270f7144183cecbe045428b25fd92150a347eec21f"
   }
  }
 },
 "nbformat": 4,
 "nbformat_minor": 2
}
