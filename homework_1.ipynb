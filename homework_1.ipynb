{
 "cells": [
  {
   "cell_type": "code",
   "execution_count": 2,
   "metadata": {},
   "outputs": [
    {
     "data": {
      "text/plain": [
       "'1.22.4'"
      ]
     },
     "execution_count": 2,
     "metadata": {},
     "output_type": "execute_result"
    }
   ],
   "source": [
    "import numpy as np\n",
    "import pandas as pd\n",
    "np.__version__"
   ]
  },
  {
   "cell_type": "code",
   "execution_count": 3,
   "metadata": {},
   "outputs": [
    {
     "name": "stderr",
     "output_type": "stream",
     "text": [
      "--2022-09-14 18:14:48--  https://raw.githubusercontent.com/alexeygrigorev/mlbookcamp-code/master/chapter-02-car-price/data.csv\n",
      "Resolving raw.githubusercontent.com (raw.githubusercontent.com)... 185.199.110.133, 185.199.108.133, 185.199.109.133, ...\n",
      "Connecting to raw.githubusercontent.com (raw.githubusercontent.com)|185.199.110.133|:443... connected.\n",
      "HTTP request sent, awaiting response... 200 OK\n",
      "Length: 1475504 (1.4M) [text/plain]\n",
      "Saving to: 'data.csv.1'\n",
      "\n",
      "     0K .......... .......... .......... .......... ..........  3%  355K 4s\n",
      "    50K .......... .......... .......... .......... ..........  6%  370K 4s\n",
      "   100K .......... .......... .......... .......... .......... 10%  535K 3s\n",
      "   150K .......... .......... .......... .......... .......... 13% 2.33M 2s\n",
      "   200K .......... .......... .......... .......... .......... 17%  764K 2s\n",
      "   250K .......... .......... .......... .......... .......... 20% 1.49M 2s\n",
      "   300K .......... .......... .......... .......... .......... 24% 2.62M 2s\n",
      "   350K .......... .......... .......... .......... .......... 27% 1.83M 1s\n",
      "   400K .......... .......... .......... .......... .......... 31% 1.41M 1s\n",
      "   450K .......... .......... .......... .......... .......... 34% 42.7M 1s\n",
      "   500K .......... .......... .......... .......... .......... 38%  482K 1s\n",
      "   550K .......... .......... .......... .......... .......... 41% 1.43M 1s\n",
      "   600K .......... .......... .......... .......... .......... 45% 1.04M 1s\n",
      "   650K .......... .......... .......... .......... .......... 48% 1.43M 1s\n",
      "   700K .......... .......... .......... .......... .......... 52% 61.6M 1s\n",
      "   750K .......... .......... .......... .......... .......... 55%  941K 1s\n",
      "   800K .......... .......... .......... .......... .......... 58%  710K 1s\n",
      "   850K .......... .......... .......... .......... .......... 62%  837K 1s\n",
      "   900K .......... .......... .......... .......... .......... 65% 1.68M 1s\n",
      "   950K .......... .......... .......... .......... .......... 69% 1.31M 0s\n",
      "  1000K .......... .......... .......... .......... .......... 72% 1.77M 0s\n",
      "  1050K .......... .......... .......... .......... .......... 76% 1.51M 0s\n",
      "  1100K .......... .......... .......... .......... .......... 79%  404K 0s\n",
      "  1150K .......... .......... .......... .......... .......... 83%  274K 0s\n",
      "  1200K .......... .......... .......... .......... .......... 86%  577K 0s\n",
      "  1250K .......... .......... .......... .......... .......... 90%  475K 0s\n",
      "  1300K .......... .......... .......... .......... .......... 93%  390K 0s\n",
      "  1350K .......... .......... .......... .......... .......... 97%  621K 0s\n",
      "  1400K .......... .......... .......... ..........           100%  948K=1.8s\n",
      "\n",
      "2022-09-14 18:14:51 (779 KB/s) - 'data.csv.1' saved [1475504/1475504]\n",
      "\n"
     ]
    }
   ],
   "source": [
    "!wget https://raw.githubusercontent.com/alexeygrigorev/mlbookcamp-code/master/chapter-02-car-price/data.csv\n"
   ]
  },
  {
   "cell_type": "code",
   "execution_count": 4,
   "metadata": {},
   "outputs": [],
   "source": [
    "data = \"data.csv\"\n",
    "df = pd.read_csv(data)"
   ]
  },
  {
   "cell_type": "code",
   "execution_count": 5,
   "metadata": {},
   "outputs": [
    {
     "name": "stdout",
     "output_type": "stream",
     "text": [
      "Number of rows is 11914\n",
      "Number of columns is 16\n"
     ]
    },
    {
     "data": {
      "text/plain": [
       "Index(['Make', 'Model', 'Year', 'Engine Fuel Type', 'Engine HP',\n",
       "       'Engine Cylinders', 'Transmission Type', 'Driven_Wheels',\n",
       "       'Number of Doors', 'Market Category', 'Vehicle Size', 'Vehicle Style',\n",
       "       'highway MPG', 'city mpg', 'Popularity', 'MSRP'],\n",
       "      dtype='object')"
      ]
     },
     "execution_count": 5,
     "metadata": {},
     "output_type": "execute_result"
    }
   ],
   "source": [
    "df.head()\n",
    "\n",
    "print(f\"Number of rows is {df.shape[0]}\")\n",
    "print(f\"Number of columns is {df.shape[1]}\")\n",
    "\n",
    "df.columns\n"
   ]
  },
  {
   "cell_type": "code",
   "execution_count": 6,
   "metadata": {},
   "outputs": [
    {
     "data": {
      "text/plain": [
       "Chevrolet     1123\n",
       "Ford           881\n",
       "Volkswagen     809\n",
       "Name: Make, dtype: int64"
      ]
     },
     "execution_count": 6,
     "metadata": {},
     "output_type": "execute_result"
    }
   ],
   "source": [
    "df['Make'].value_counts().head(3)"
   ]
  },
  {
   "cell_type": "code",
   "execution_count": 7,
   "metadata": {},
   "outputs": [
    {
     "name": "stdout",
     "output_type": "stream",
     "text": [
      "There are 34 unique audi models\n"
     ]
    }
   ],
   "source": [
    "unique_audi_models = df['Model'][df['Make'] == 'Audi'].nunique()\n",
    "print(f\"There are {unique_audi_models} unique audi models\")"
   ]
  },
  {
   "cell_type": "code",
   "execution_count": 8,
   "metadata": {},
   "outputs": [
    {
     "name": "stdout",
     "output_type": "stream",
     "text": [
      "There are 5 columns with missing values\n"
     ]
    }
   ],
   "source": [
    "series = df.isnull().sum()\n",
    "columns_na = 0\n",
    "\n",
    "for x in series:\n",
    "    if x > 0:\n",
    "        columns_na += 1\n",
    "\n",
    "print(f\"There are {columns_na} columns with missing values\")\n",
    "    "
   ]
  },
  {
   "cell_type": "code",
   "execution_count": 9,
   "metadata": {},
   "outputs": [
    {
     "name": "stdout",
     "output_type": "stream",
     "text": [
      "The initial median was 6.0 while the median after filling the missing values was 6.0\n"
     ]
    }
   ],
   "source": [
    "median_before = df['Engine Cylinders'].median()\n",
    "mode = df['Engine Cylinders'].mode()\n",
    "df[\"Engine Cylinders\"].fillna(mode, inplace=True)\n",
    "\n",
    "df['Engine Cylinders'].isnull().sum()\n",
    "# mode\n",
    "median_after = df['Engine Cylinders'].median()\n",
    "\n",
    "print(f\"The initial median was {median_before} while the median after filling the missing values was {median_after}\")\n"
   ]
  },
  {
   "cell_type": "code",
   "execution_count": 10,
   "metadata": {},
   "outputs": [],
   "source": [
    "df_lotus = df.query(\"Make=='Lotus'\")\n",
    "\n",
    "x = df_lotus[[\"Engine HP\", \"Engine Cylinders\"]].drop_duplicates()"
   ]
  },
  {
   "cell_type": "code",
   "execution_count": 13,
   "metadata": {},
   "outputs": [
    {
     "name": "stdout",
     "output_type": "stream",
     "text": [
      "[[7.31684e+05 1.34100e+04]\n",
      " [1.34100e+04 2.52000e+02]]\n",
      "[[ 5.53084235e-05 -2.94319825e-03]\n",
      " [-2.94319825e-03  1.60588447e-01]]\n"
     ]
    }
   ],
   "source": [
    "x = np.array(x)\n",
    "\n",
    "y = np.array([1100, 800, 750, 850, 1300, 1000, 1000, 1300, 800])\n",
    "\n",
    "xtx = x.T @ x\n",
    "\n",
    "xtx_inv = np.linalg.inv(xtx)\n",
    "\n",
    "w = xtx_inv @ x.T\n",
    "\n",
    "w @ y\n",
    "\n",
    "print(xtx)\n",
    "print(xtx_inv)"
   ]
  }
 ],
 "metadata": {
  "kernelspec": {
   "display_name": "Python 3.10.5 64-bit",
   "language": "python",
   "name": "python3"
  },
  "language_info": {
   "codemirror_mode": {
    "name": "ipython",
    "version": 3
   },
   "file_extension": ".py",
   "mimetype": "text/x-python",
   "name": "python",
   "nbconvert_exporter": "python",
   "pygments_lexer": "ipython3",
   "version": "3.10.5"
  },
  "orig_nbformat": 4,
  "vscode": {
   "interpreter": {
    "hash": "8eede22598bfb2ec59ca93270f7144183cecbe045428b25fd92150a347eec21f"
   }
  }
 },
 "nbformat": 4,
 "nbformat_minor": 2
}
