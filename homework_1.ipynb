{
 "cells": [
  {
   "cell_type": "code",
   "execution_count": 3,
   "metadata": {},
   "outputs": [
    {
     "data": {
      "text/plain": [
       "'1.22.4'"
      ]
     },
     "execution_count": 3,
     "metadata": {},
     "output_type": "execute_result"
    }
   ],
   "source": [
    "import numpy as np\n",
    "import pandas as pd\n",
    "np.__version__"
   ]
  },
  {
   "cell_type": "code",
   "execution_count": 2,
   "metadata": {},
   "outputs": [
    {
     "name": "stderr",
     "output_type": "stream",
     "text": [
      "--2022-09-08 14:33:59--  https://raw.githubusercontent.com/alexeygrigorev/mlbookcamp-code/master/chapter-02-car-price/data.csv\n",
      "Resolving raw.githubusercontent.com (raw.githubusercontent.com)... 185.199.108.133, 185.199.110.133, 185.199.109.133, ...\n",
      "Connecting to raw.githubusercontent.com (raw.githubusercontent.com)|185.199.108.133|:443... connected.\n",
      "HTTP request sent, awaiting response... 200 OK\n",
      "Length: 1475504 (1.4M) [text/plain]\n",
      "Saving to: 'data.csv'\n",
      "\n",
      "     0K .......... .......... .......... .......... ..........  3%  420K 3s\n",
      "    50K .......... .......... .......... .......... ..........  6% 1.03M 2s\n",
      "   100K .......... .......... .......... .......... .......... 10% 1.11M 2s\n",
      "   150K .......... .......... .......... .......... .......... 13% 1.24M 2s\n",
      "   200K .......... .......... .......... .......... .......... 17%  699K 2s\n",
      "   250K .......... .......... .......... .......... .......... 20%  968K 1s\n",
      "   300K .......... .......... .......... .......... .......... 24%  795K 1s\n",
      "   350K .......... .......... .......... .......... .......... 27%  863K 1s\n",
      "   400K .......... .......... .......... .......... .......... 31% 1.47M 1s\n",
      "   450K .......... .......... .......... .......... .......... 34% 1.61M 1s\n",
      "   500K .......... .......... .......... .......... .......... 38%  926K 1s\n",
      "   550K .......... .......... .......... .......... .......... 41% 1.70M 1s\n",
      "   600K .......... .......... .......... .......... .......... 45%  690K 1s\n",
      "   650K .......... .......... .......... .......... .......... 48%  553K 1s\n",
      "   700K .......... .......... .......... .......... .......... 52%  953K 1s\n",
      "   750K .......... .......... .......... .......... .......... 55% 1.52M 1s\n",
      "   800K .......... .......... .......... .......... .......... 58% 1.67M 1s\n",
      "   850K .......... .......... .......... .......... .......... 62% 1.30M 1s\n",
      "   900K .......... .......... .......... .......... .......... 65% 3.05M 1s\n",
      "   950K .......... .......... .......... .......... .......... 69% 1.07M 0s\n",
      "  1000K .......... .......... .......... .......... .......... 72%  802K 0s\n",
      "  1050K .......... .......... .......... .......... .......... 76% 1.33M 0s\n",
      "  1100K .......... .......... .......... .......... .......... 79% 1.04M 0s\n",
      "  1150K .......... .......... .......... .......... .......... 83% 1.55M 0s\n",
      "  1200K .......... .......... .......... .......... .......... 86% 1.25M 0s\n",
      "  1250K .......... .......... .......... .......... .......... 90% 1.85M 0s\n",
      "  1300K .......... .......... .......... .......... .......... 93% 2.13M 0s\n",
      "  1350K .......... .......... .......... .......... .......... 97% 1.17M 0s\n",
      "  1400K .......... .......... .......... ..........           100% 1.28M=1.4s\n",
      "\n",
      "2022-09-08 14:34:01 (1.04 MB/s) - 'data.csv' saved [1475504/1475504]\n",
      "\n"
     ]
    }
   ],
   "source": [
    "!wget https://raw.githubusercontent.com/alexeygrigorev/mlbookcamp-code/master/chapter-02-car-price/data.csv\n"
   ]
  },
  {
   "cell_type": "code",
   "execution_count": 73,
   "metadata": {},
   "outputs": [],
   "source": [
    "data = \"data.csv\"\n",
    "df = pd.read_csv(data)"
   ]
  },
  {
   "cell_type": "code",
   "execution_count": 11,
   "metadata": {},
   "outputs": [
    {
     "name": "stdout",
     "output_type": "stream",
     "text": [
      "Number of rows is 11914\n",
      "Number of columns is 16\n"
     ]
    },
    {
     "data": {
      "text/plain": [
       "Index(['Make', 'Model', 'Year', 'Engine Fuel Type', 'Engine HP',\n",
       "       'Engine Cylinders', 'Transmission Type', 'Driven_Wheels',\n",
       "       'Number of Doors', 'Market Category', 'Vehicle Size', 'Vehicle Style',\n",
       "       'highway MPG', 'city mpg', 'Popularity', 'MSRP'],\n",
       "      dtype='object')"
      ]
     },
     "execution_count": 11,
     "metadata": {},
     "output_type": "execute_result"
    }
   ],
   "source": [
    "df.head()\n",
    "\n",
    "print(f\"Number of rows is {df.shape[0]}\")\n",
    "print(f\"Number of columns is {df.shape[1]}\")\n",
    "\n",
    "df.columns\n"
   ]
  },
  {
   "cell_type": "code",
   "execution_count": 33,
   "metadata": {},
   "outputs": [
    {
     "data": {
      "text/plain": [
       "Chevrolet     1123\n",
       "Ford           881\n",
       "Volkswagen     809\n",
       "Name: Make, dtype: int64"
      ]
     },
     "execution_count": 33,
     "metadata": {},
     "output_type": "execute_result"
    }
   ],
   "source": [
    "df['Make'].value_counts().head(3)"
   ]
  },
  {
   "cell_type": "code",
   "execution_count": 35,
   "metadata": {},
   "outputs": [
    {
     "name": "stdout",
     "output_type": "stream",
     "text": [
      "There are 34 unique audi models\n"
     ]
    }
   ],
   "source": [
    "unique_audi_models = df['Model'][df['Make'] == 'Audi'].nunique()\n",
    "print(f\"There are {unique_audi_models} unique audi models\")"
   ]
  },
  {
   "cell_type": "code",
   "execution_count": 59,
   "metadata": {},
   "outputs": [
    {
     "name": "stdout",
     "output_type": "stream",
     "text": [
      "There are 5 columns with missing values\n"
     ]
    }
   ],
   "source": [
    "series = df.isnull().sum()\n",
    "columns_na = 0\n",
    "\n",
    "for x in series:\n",
    "    if x > 0:\n",
    "        columns_na += 1\n",
    "\n",
    "print(f\"There are {columns_na} columns with missing values\")\n",
    "    "
   ]
  },
  {
   "cell_type": "code",
   "execution_count": 79,
   "metadata": {},
   "outputs": [
    {
     "name": "stdout",
     "output_type": "stream",
     "text": [
      "The initial median was 6.0 while the median after filling the missing values was 6.0\n"
     ]
    }
   ],
   "source": [
    "median_before = df['Engine Cylinders'].median()\n",
    "mode = df['Engine Cylinders'].mode()\n",
    "df[\"Engine Cylinders\"].fillna(mode, inplace=True)\n",
    "\n",
    "df['Engine Cylinders'].isnull().sum()\n",
    "# mode\n",
    "median_after = df['Engine Cylinders'].median()\n",
    "\n",
    "print(f\"The initial median was {median_before} while the median after filling the missing values was {median_after}\")\n"
   ]
  },
  {
   "cell_type": "code",
   "execution_count": 189,
   "metadata": {},
   "outputs": [
    {
     "name": "stdout",
     "output_type": "stream",
     "text": [
      "Shape of x_array transposed (2, 9)\n",
      "Shape of result (2, 2)\n",
      "Result: [[1.34100e+04 2.52000e+02]\n",
      " [7.31684e+05 1.34100e+04]]\n"
     ]
    },
    {
     "ename": "ValueError",
     "evalue": "matmul: Input operand 1 has a mismatch in its core dimension 0, with gufunc signature (n?,k),(k,m?)->(n?,m?) (size 9 is different from 2)",
     "output_type": "error",
     "traceback": [
      "\u001b[1;31m---------------------------------------------------------------------------\u001b[0m",
      "\u001b[1;31mValueError\u001b[0m                                Traceback (most recent call last)",
      "\u001b[1;32mc:\\Users\\Latitude E7270\\Documents\\Codes\\mlzoomcamp\\homeworks\\homework_1.ipynb Cell 9\u001b[0m in \u001b[0;36m<cell line: 28>\u001b[1;34m()\u001b[0m\n\u001b[0;32m     <a href='vscode-notebook-cell:/c%3A/Users/Latitude%20E7270/Documents/Codes/mlzoomcamp/homeworks/homework_1.ipynb#X11sZmlsZQ%3D%3D?line=24'>25</a>\u001b[0m result \u001b[39m=\u001b[39m result[::\u001b[39m-\u001b[39m\u001b[39m1\u001b[39m]\n\u001b[0;32m     <a href='vscode-notebook-cell:/c%3A/Users/Latitude%20E7270/Documents/Codes/mlzoomcamp/homeworks/homework_1.ipynb#X11sZmlsZQ%3D%3D?line=25'>26</a>\u001b[0m \u001b[39mprint\u001b[39m(\u001b[39mf\u001b[39m\u001b[39m\"\u001b[39m\u001b[39mResult: \u001b[39m\u001b[39m{\u001b[39;00mresult\u001b[39m}\u001b[39;00m\u001b[39m\"\u001b[39m)\n\u001b[1;32m---> <a href='vscode-notebook-cell:/c%3A/Users/Latitude%20E7270/Documents/Codes/mlzoomcamp/homeworks/homework_1.ipynb#X11sZmlsZQ%3D%3D?line=27'>28</a>\u001b[0m z \u001b[39m=\u001b[39m result \u001b[39m@\u001b[39;49m x_array\n\u001b[0;32m     <a href='vscode-notebook-cell:/c%3A/Users/Latitude%20E7270/Documents/Codes/mlzoomcamp/homeworks/homework_1.ipynb#X11sZmlsZQ%3D%3D?line=28'>29</a>\u001b[0m z_1 \u001b[39m=\u001b[39m x_array\u001b[39m.\u001b[39mT \u001b[39m@\u001b[39m result\n\u001b[0;32m     <a href='vscode-notebook-cell:/c%3A/Users/Latitude%20E7270/Documents/Codes/mlzoomcamp/homeworks/homework_1.ipynb#X11sZmlsZQ%3D%3D?line=30'>31</a>\u001b[0m x_array\u001b[39m.\u001b[39mshape\n",
      "\u001b[1;31mValueError\u001b[0m: matmul: Input operand 1 has a mismatch in its core dimension 0, with gufunc signature (n?,k),(k,m?)->(n?,m?) (size 9 is different from 2)"
     ]
    }
   ],
   "source": [
    "df_lotus = df.query(\"Make=='Lotus'\")\n",
    "\n",
    "x = df_lotus[[\"Engine HP\", \"Engine Cylinders\"]].drop_duplicates()\n",
    "\n",
    "x_array = np.array(x)\n",
    "\n",
    "y = [1100, 800, 750, 850, 1300, 1000, 1000, 1300, 800]\n",
    "\n",
    "print(f\"Shape of x_array transposed {x_array.T.shape}\")\n",
    "print(f\"Shape of result {result.shape}\")\n",
    "\n",
    "# result = np.dot(x_array, x_array.T)\n",
    "# result = x_array.T @ x_array\n",
    "result.shape\n",
    "# print(result)\n",
    "\n",
    "# z = x_array.T @ result.T\n",
    "z.shape\n",
    "\n",
    "y = np.array(y)\n",
    "y.shape\n",
    "\n",
    "# z @ y\n",
    "\n",
    "result = result[::-1]\n",
    "print(f\"Result: {result}\")\n",
    "\n",
    "z = result @ x_array\n",
    "z_1 = x_array.T @ result\n",
    "\n",
    "x_array.shape"
   ]
  }
 ],
 "metadata": {
  "kernelspec": {
   "display_name": "Python 3.10.5 64-bit",
   "language": "python",
   "name": "python3"
  },
  "language_info": {
   "codemirror_mode": {
    "name": "ipython",
    "version": 3
   },
   "file_extension": ".py",
   "mimetype": "text/x-python",
   "name": "python",
   "nbconvert_exporter": "python",
   "pygments_lexer": "ipython3",
   "version": "3.10.5"
  },
  "orig_nbformat": 4,
  "vscode": {
   "interpreter": {
    "hash": "8eede22598bfb2ec59ca93270f7144183cecbe045428b25fd92150a347eec21f"
   }
  }
 },
 "nbformat": 4,
 "nbformat_minor": 2
}
