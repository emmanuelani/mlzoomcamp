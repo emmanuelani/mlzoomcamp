{
 "cells": [
  {
   "cell_type": "code",
   "execution_count": 2,
   "metadata": {},
   "outputs": [
    {
     "data": {
      "text/plain": [
       "'1.22.4'"
      ]
     },
     "execution_count": 2,
     "metadata": {},
     "output_type": "execute_result"
    }
   ],
   "source": [
    "import numpy as np\n",
    "import pandas as pd\n",
    "np.__version__"
   ]
  },
  {
   "cell_type": "code",
   "execution_count": 3,
   "metadata": {},
   "outputs": [
    {
     "name": "stderr",
     "output_type": "stream",
     "text": [
      "--2022-09-12 16:13:37--  https://raw.githubusercontent.com/alexeygrigorev/mlbookcamp-code/master/chapter-02-car-price/data.csv\n",
      "Resolving raw.githubusercontent.com (raw.githubusercontent.com)... 185.199.108.133, 185.199.110.133, 185.199.111.133, ...\n",
      "Connecting to raw.githubusercontent.com (raw.githubusercontent.com)|185.199.108.133|:443... connected.\n",
      "HTTP request sent, awaiting response... 200 OK\n",
      "Length: 1475504 (1.4M) [text/plain]\n",
      "Saving to: 'data.csv.1'\n",
      "\n",
      "     0K .......... .......... .......... .......... ..........  3%  238K 6s\n",
      "    50K .......... .......... .......... .......... ..........  6% 46.3K 17s\n",
      "   100K .......... .......... .......... .......... .......... 10%  111K 15s\n",
      "   150K .......... .......... .......... .......... .......... 13%  134K 13s\n",
      "   200K .......... .......... .......... .......... .......... 17%  585K 10s\n",
      "   250K .......... .......... .......... .......... .......... 20% 1.54M 8s\n",
      "   300K .......... .......... .......... .......... .......... 24% 25.8K 13s\n",
      "   350K .......... .......... .......... .......... .......... 27%  161K 12s\n",
      "   400K .......... .......... .......... .......... .......... 31% 1.90M 10s\n",
      "   450K .......... .......... .......... .......... .......... 34%  762K 9s\n",
      "   500K .......... .......... .......... .......... .......... 38% 1.66M 7s\n",
      "   550K .......... .......... .......... .......... .......... 41% 21.6K 10s\n",
      "   600K .......... .......... .......... .......... .......... 45%  730K 8s\n",
      "   650K .......... .......... .......... .......... .......... 48%  160K 8s\n",
      "   700K .......... .......... .......... .......... .......... 52% 3.61M 7s\n",
      "   750K .......... .......... .......... .......... .......... 55% 1.62M 6s\n",
      "   800K .......... .......... .......... .......... .......... 58% 1.85M 5s\n",
      "   850K .......... .......... .......... .......... .......... 62% 1.83M 4s\n",
      "   900K .......... .......... .......... .......... .......... 65% 3.72M 4s\n",
      "   950K .......... .......... .......... .......... .......... 69%  613K 3s\n",
      "  1000K .......... .......... .......... .......... .......... 72% 4.88M 3s\n",
      "  1050K .......... .......... .......... .......... .......... 76% 21.9K 3s\n",
      "  1100K .......... .......... .......... .......... .......... 79%  159K 3s\n",
      "  1150K .......... .......... .......... .......... .......... 83% 1.28M 2s\n",
      "  1200K .......... .......... .......... .......... .......... 86% 89.6M 2s\n",
      "  1250K .......... .......... .......... .......... .......... 90%  207K 1s\n",
      "  1300K .......... .......... .......... .......... .......... 93%  901K 1s\n",
      "  1350K .......... .......... .......... .......... .......... 97%  949K 0s\n",
      "  1400K .......... .......... .......... ..........           100% 1.16M=11s\n",
      "\n",
      "2022-09-12 16:13:52 (137 KB/s) - 'data.csv.1' saved [1475504/1475504]\n",
      "\n"
     ]
    }
   ],
   "source": [
    "!wget https://raw.githubusercontent.com/alexeygrigorev/mlbookcamp-code/master/chapter-02-car-price/data.csv\n"
   ]
  },
  {
   "cell_type": "code",
   "execution_count": 4,
   "metadata": {},
   "outputs": [],
   "source": [
    "data = \"data.csv\"\n",
    "df = pd.read_csv(data)"
   ]
  },
  {
   "cell_type": "code",
   "execution_count": 5,
   "metadata": {},
   "outputs": [
    {
     "name": "stdout",
     "output_type": "stream",
     "text": [
      "Number of rows is 11914\n",
      "Number of columns is 16\n"
     ]
    },
    {
     "data": {
      "text/plain": [
       "Index(['Make', 'Model', 'Year', 'Engine Fuel Type', 'Engine HP',\n",
       "       'Engine Cylinders', 'Transmission Type', 'Driven_Wheels',\n",
       "       'Number of Doors', 'Market Category', 'Vehicle Size', 'Vehicle Style',\n",
       "       'highway MPG', 'city mpg', 'Popularity', 'MSRP'],\n",
       "      dtype='object')"
      ]
     },
     "execution_count": 5,
     "metadata": {},
     "output_type": "execute_result"
    }
   ],
   "source": [
    "df.head()\n",
    "\n",
    "print(f\"Number of rows is {df.shape[0]}\")\n",
    "print(f\"Number of columns is {df.shape[1]}\")\n",
    "\n",
    "df.columns\n"
   ]
  },
  {
   "cell_type": "code",
   "execution_count": 6,
   "metadata": {},
   "outputs": [
    {
     "data": {
      "text/plain": [
       "Chevrolet     1123\n",
       "Ford           881\n",
       "Volkswagen     809\n",
       "Name: Make, dtype: int64"
      ]
     },
     "execution_count": 6,
     "metadata": {},
     "output_type": "execute_result"
    }
   ],
   "source": [
    "df['Make'].value_counts().head(3)"
   ]
  },
  {
   "cell_type": "code",
   "execution_count": 7,
   "metadata": {},
   "outputs": [
    {
     "name": "stdout",
     "output_type": "stream",
     "text": [
      "There are 34 unique audi models\n"
     ]
    }
   ],
   "source": [
    "unique_audi_models = df['Model'][df['Make'] == 'Audi'].nunique()\n",
    "print(f\"There are {unique_audi_models} unique audi models\")"
   ]
  },
  {
   "cell_type": "code",
   "execution_count": 8,
   "metadata": {},
   "outputs": [
    {
     "name": "stdout",
     "output_type": "stream",
     "text": [
      "There are 5 columns with missing values\n"
     ]
    }
   ],
   "source": [
    "series = df.isnull().sum()\n",
    "columns_na = 0\n",
    "\n",
    "for x in series:\n",
    "    if x > 0:\n",
    "        columns_na += 1\n",
    "\n",
    "print(f\"There are {columns_na} columns with missing values\")\n",
    "    "
   ]
  },
  {
   "cell_type": "code",
   "execution_count": 9,
   "metadata": {},
   "outputs": [
    {
     "name": "stdout",
     "output_type": "stream",
     "text": [
      "The initial median was 6.0 while the median after filling the missing values was 6.0\n"
     ]
    }
   ],
   "source": [
    "median_before = df['Engine Cylinders'].median()\n",
    "mode = df['Engine Cylinders'].mode()\n",
    "df[\"Engine Cylinders\"].fillna(mode, inplace=True)\n",
    "\n",
    "df['Engine Cylinders'].isnull().sum()\n",
    "# mode\n",
    "median_after = df['Engine Cylinders'].median()\n",
    "\n",
    "print(f\"The initial median was {median_before} while the median after filling the missing values was {median_after}\")\n"
   ]
  },
  {
   "cell_type": "code",
   "execution_count": 10,
   "metadata": {},
   "outputs": [],
   "source": [
    "df_lotus = df.query(\"Make=='Lotus'\")\n",
    "\n",
    "x = df_lotus[[\"Engine HP\", \"Engine Cylinders\"]].drop_duplicates()"
   ]
  },
  {
   "cell_type": "code",
   "execution_count": 18,
   "metadata": {},
   "outputs": [
    {
     "data": {
      "text/plain": [
       "array([3.36658977e+10, 1.83688225e+12])"
      ]
     },
     "execution_count": 18,
     "metadata": {},
     "output_type": "execute_result"
    }
   ],
   "source": [
    "x = np.array(x)\n",
    "\n",
    "y = [1100, 800, 750, 850, 1300, 1000, 1000, 1300, 800]\n",
    "\n",
    "xtx = x.T @ x\n",
    "\n",
    "xtx_t = xtx.T\n",
    "\n",
    "result = xtx[::-1] @ x.T\n",
    "\n",
    "result @ y"
   ]
  }
 ],
 "metadata": {
  "kernelspec": {
   "display_name": "Python 3.10.5 64-bit",
   "language": "python",
   "name": "python3"
  },
  "language_info": {
   "codemirror_mode": {
    "name": "ipython",
    "version": 3
   },
   "file_extension": ".py",
   "mimetype": "text/x-python",
   "name": "python",
   "nbconvert_exporter": "python",
   "pygments_lexer": "ipython3",
   "version": "3.10.5"
  },
  "orig_nbformat": 4,
  "vscode": {
   "interpreter": {
    "hash": "8eede22598bfb2ec59ca93270f7144183cecbe045428b25fd92150a347eec21f"
   }
  }
 },
 "nbformat": 4,
 "nbformat_minor": 2
}
